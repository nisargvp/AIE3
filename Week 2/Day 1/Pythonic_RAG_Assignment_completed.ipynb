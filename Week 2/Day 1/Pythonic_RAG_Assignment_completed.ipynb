{
  "cells": [
    {
      "cell_type": "markdown",
      "metadata": {
        "id": "lElF3o5PR6ys"
      },
      "source": [
        "# Your First RAG Application\n",
        "\n",
        "In this notebook, we'll walk you through each of the components that are involved in a simple RAG application.\n",
        "\n",
        "We won't be leveraging any fancy tools, just the OpenAI Python SDK, Numpy, and some classic Python.\n",
        "\n",
        "> NOTE: This was done with Python 3.11.4.\n",
        "\n",
        "> NOTE: There might be [compatibility issues](https://github.com/wandb/wandb/issues/7683) if you're on NVIDIA driver >552.44 As an interim solution - you can rollback your drivers to the 552.44."
      ]
    },
    {
      "cell_type": "markdown",
      "metadata": {
        "id": "5CtcL8P8R6yt"
      },
      "source": [
        "## Table of Contents:\n",
        "\n",
        "- Task 1: Imports and Utilities\n",
        "- Task 2: Documents\n",
        "- Task 3: Embeddings and Vectors\n",
        "- Task 4: Prompts\n",
        "- Task 5: Retrieval Augmented Generation\n",
        "  - 🚧 Activity #1: Augment RAG\n",
        "- Task 6: Visibility Tooling\n",
        "- Task 7: RAG Evaluation Using GPT-4"
      ]
    },
    {
      "cell_type": "markdown",
      "metadata": {
        "id": "1Dz6GYilR6yt"
      },
      "source": [
        "Let's look at a rather complicated looking visual representation of a basic RAG application.\n",
        "\n",
        "<img src=\"https://i.imgur.com/PvlaIUO.png\" />"
      ]
    },
    {
      "cell_type": "markdown",
      "metadata": {
        "id": "PjmC0KFtR6yt"
      },
      "source": [
        "## Task 1: Imports and Utility\n",
        "\n",
        "We're just doing some imports and enabling `async` to work within the Jupyter environment here, nothing too crazy!"
      ]
    },
    {
      "cell_type": "code",
      "execution_count": 1,
      "metadata": {
        "colab": {
          "base_uri": "https://localhost:8080/"
        },
        "id": "H7VEzqziR6yt",
        "outputId": "f873dd3b-55a0-4e00-ecf4-e2a0fe3af327"
      },
      "outputs": [],
      "source": [
        "# !pip install -qU numpy matplotlib plotly pandas scipy scikit-learn openai python-dotenv"
      ]
    },
    {
      "cell_type": "code",
      "execution_count": 2,
      "metadata": {
        "id": "Z1dyrG4hR6yt"
      },
      "outputs": [],
      "source": [
        "from aimakerspace.text_utils import TextFileLoader, CharacterTextSplitter\n",
        "from aimakerspace.vectordatabase import VectorDatabase\n",
        "import asyncio"
      ]
    },
    {
      "cell_type": "code",
      "execution_count": 3,
      "metadata": {
        "id": "9OrFZRnER6yt"
      },
      "outputs": [],
      "source": [
        "import nest_asyncio\n",
        "nest_asyncio.apply()"
      ]
    },
    {
      "cell_type": "markdown",
      "metadata": {
        "id": "M0jGnpQsR6yu"
      },
      "source": [
        "## Task 2: Documents\n",
        "\n",
        "We'll be concerning ourselves with this part of the flow in the following section:\n",
        "\n",
        "<img src=\"https://i.imgur.com/jTm9gjk.png\" />"
      ]
    },
    {
      "cell_type": "markdown",
      "metadata": {
        "id": "-SFPWvRUR6yu"
      },
      "source": [
        "### Loading Source Documents\n",
        "\n",
        "So, first things first, we need some documents to work with.\n",
        "\n",
        "While we could work directly with the `.txt` files (or whatever file-types you wanted to extend this to) we can instead do some batch processing of those documents at the beginning in order to store them in a more machine compatible format.\n",
        "\n",
        "In this case, we're going to parse our text file into a single document in memory.\n",
        "\n",
        "Let's look at the relevant bits of the `TextFileLoader` class:\n",
        "\n",
        "```python\n",
        "def load_file(self):\n",
        "        with open(self.path, \"r\", encoding=self.encoding) as f:\n",
        "            self.documents.append(f.read())\n",
        "```\n",
        "\n",
        "We're simply loading the document using the built in `open` method, and storing that output in our `self.documents` list.\n"
      ]
    },
    {
      "cell_type": "code",
      "execution_count": 4,
      "metadata": {
        "colab": {
          "base_uri": "https://localhost:8080/"
        },
        "id": "Ia2sUEuGR6yu",
        "outputId": "84937ecc-c35f-4c4a-a4ab-9da72625954c"
      },
      "outputs": [
        {
          "data": {
            "text/plain": [
              "1"
            ]
          },
          "execution_count": 4,
          "metadata": {},
          "output_type": "execute_result"
        }
      ],
      "source": [
        "text_loader = TextFileLoader(\"data/PMarcaBlogs.txt\")\n",
        "documents = text_loader.load_documents()\n",
        "len(documents)"
      ]
    },
    {
      "cell_type": "code",
      "execution_count": 5,
      "metadata": {
        "colab": {
          "base_uri": "https://localhost:8080/"
        },
        "id": "bV-tj5WFR6yu",
        "outputId": "674eb315-1ff3-4597-bcf5-38ece0a812ac"
      },
      "outputs": [
        {
          "name": "stdout",
          "output_type": "stream",
          "text": [
            "\n",
            "The Pmarca Blog Archives\n",
            "(select posts from 2007-2009)\n",
            "Marc Andreessen\n",
            "copyright: Andreessen Horow\n"
          ]
        }
      ],
      "source": [
        "print(documents[0][:100])"
      ]
    },
    {
      "cell_type": "markdown",
      "metadata": {
        "id": "nHlTvCzYR6yu"
      },
      "source": [
        "### Splitting Text Into Chunks\n",
        "\n",
        "As we can see, there is one document - and it's the entire text of Frakenstein\n",
        "\n",
        "We'll want to chunk the document into smaller parts so it's easier to pass the most relevant snippets to the LLM.\n",
        "\n",
        "There is no fixed way to split/chunk documents - and you'll need to rely on some intuition as well as knowing your data *very* well in order to build the most robust system.\n",
        "\n",
        "For this toy example, we'll just split blindly on length.\n",
        "\n",
        ">There's an opportunity to clear up some terminology here, for this course we will be stick to the following:\n",
        ">\n",
        ">- \"source documents\" : The `.txt`, `.pdf`, `.html`, ..., files that make up the files and information we start with in its raw format\n",
        ">- \"document(s)\" : single (or more) text object(s)\n",
        ">- \"corpus\" : the combination of all of our documents"
      ]
    },
    {
      "cell_type": "markdown",
      "metadata": {
        "id": "M0DV5Yx5R6yu"
      },
      "source": [
        "Let's take a peek visually at what we're doing here - and why it might be useful:\n",
        "\n",
        "<img src=\"https://i.imgur.com/rtM6Ci6.png\" />"
      ]
    },
    {
      "cell_type": "markdown",
      "metadata": {
        "id": "2G6Voc0jR6yv"
      },
      "source": [
        "As you can see (though it's not specifically true in this toy example) the idea of splitting documents is to break them into managable sized chunks that retain the most relevant local context."
      ]
    },
    {
      "cell_type": "code",
      "execution_count": 6,
      "metadata": {
        "colab": {
          "base_uri": "https://localhost:8080/"
        },
        "id": "UMC4tsEmR6yv",
        "outputId": "08689c0b-57cd-4040-942a-8193e997f5cb"
      },
      "outputs": [
        {
          "data": {
            "text/plain": [
              "373"
            ]
          },
          "execution_count": 6,
          "metadata": {},
          "output_type": "execute_result"
        }
      ],
      "source": [
        "text_splitter = CharacterTextSplitter()\n",
        "split_documents = text_splitter.split_texts(documents)\n",
        "len(split_documents)"
      ]
    },
    {
      "cell_type": "markdown",
      "metadata": {
        "id": "W2wKT0WLR6yv"
      },
      "source": [
        "Let's take a look at some of the documents we've managed to split."
      ]
    },
    {
      "cell_type": "code",
      "execution_count": 7,
      "metadata": {
        "colab": {
          "base_uri": "https://localhost:8080/"
        },
        "id": "vcYMwWJoR6yv",
        "outputId": "20d69876-feca-4826-b4be-32915276987a"
      },
      "outputs": [
        {
          "data": {
            "text/plain": [
              "['\\ufeff\\nThe Pmarca Blog Archives\\n(select posts from 2007-2009)\\nMarc Andreessen\\ncopyright: Andreessen Horowitz\\ncover design: Jessica Hagy\\nproduced using: Pressbooks\\nContents\\nTHE PMARCA GUIDE TO STARTUPS\\nPart 1: Why not to do a startup 2\\nPart 2: When the VCs say \"no\" 10\\nPart 3: \"But I don\\'t know any VCs!\" 18\\nPart 4: The only thing that matters 25\\nPart 5: The Moby Dick theory of big companies 33\\nPart 6: How much funding is too little? Too much? 41\\nPart 7: Why a startup\\'s initial business plan doesn\\'t\\nmatter that much\\n49\\nTHE PMARCA GUIDE TO HIRING\\nPart 8: Hiring, managing, promoting, and Dring\\nexecutives\\n54\\nPart 9: How to hire a professional CEO 68\\nHow to hire the best people you\\'ve ever worked\\nwith\\n69\\nTHE PMARCA GUIDE TO BIG COMPANIES\\nPart 1: Turnaround! 82\\nPart 2: Retaining great people 86\\nTHE PMARCA GUIDE TO CAREER, PRODUCTIVITY,\\nAND SOME OTHER THINGS\\nIntroduction 97\\nPart 1: Opportunity 99\\nPart 2: Skills and education 107\\nPart 3: Where to go and why 120\\nThe Pmarca Guide to Personal Productivi']"
            ]
          },
          "execution_count": 7,
          "metadata": {},
          "output_type": "execute_result"
        }
      ],
      "source": [
        "split_documents[0:1]"
      ]
    },
    {
      "cell_type": "markdown",
      "metadata": {
        "id": "HOU-RFP_R6yv"
      },
      "source": [
        "## Task 3: Embeddings and Vectors\n",
        "\n",
        "Next, we have to convert our corpus into a \"machine readable\" format.\n",
        "\n",
        "Loosely, this means turning the text into numbers.\n",
        "\n",
        "Today, we're going to talk about the actual process of creating, and then storing, these embeddings, and how we can leverage that to intelligently add context to our queries."
      ]
    },
    {
      "cell_type": "markdown",
      "metadata": {},
      "source": [
        "### Embeddings and Dense Vector Search: A Quick Primer\n",
        "\n",
        "If you come from an NLP background, embeddings are something you might be intimately familiar with - otherwise, you might find the topic a bit...dense. (this attempt at a joke will make more sense later)\n",
        "\n",
        "In all seriousness, embeddings are a powerful piece of the NLP puzzle, so let's dive in!\n",
        "\n",
        "> NOTE: While this notebook language/NLP-centric, embeddings have uses beyond just text!"
      ]
    },
    {
      "cell_type": "markdown",
      "metadata": {},
      "source": [
        "#### Why Do We Even Need Embeddings?\n",
        "\n",
        "In order to fully understand what Embeddings are, we first need to understand why we have them!\n",
        "\n",
        "Machine Learning algorithms, ranging from the very big to the very small, all have one thing in common:\n",
        "\n",
        "They need numeric inputs.\n",
        "\n",
        "So we need a process by which to translate the domain we live in, dominated by images, audio, language, and more, into the domain of the machine: Numbers.\n",
        "\n",
        "Another thing we want to be able to do is capture \"semantic information\" about words/phrases so that we can use algorithmic approaches to determine if words are closely related or not!\n",
        "\n",
        "So, we need to come up with a process that does these two things well:\n",
        "\n",
        "- Convert non-numeric data into numeric-data\n",
        "- Capture potential semantic relationships between individual pieces of data"
      ]
    },
    {
      "cell_type": "markdown",
      "metadata": {},
      "source": [
        "#### How Do Embeddings Capture Semantic Relationships?\n",
        "\n",
        "In a simplified sense, embeddings map a word or phrase into n-dimensional space with a dense continuous vector, where each dimension in the vector represents some \"latent feature\" of the data.\n",
        "\n",
        "This is best represented in a classic example:\n",
        "\n",
        "![image](https://i.imgur.com/K5eQtmH.png)\n",
        "\n",
        "As can be seen in the extremely simplified example: The X_1 axis represents age, and the X_2 axis represents hair.\n",
        "\n",
        "The relationship of \"puppy -> dog\" reflects the same relationship as \"baby -> adult\", but dogs are (typically) hairier than humans. However, adults typically have more hair than babies - so they are shifted slightly closer to dogs on the X_2 axis!\n",
        "\n",
        "Now, this is a simplified and contrived example - but it is *essentially* the mechanism by which embeddings capture semantic information.\n",
        "\n",
        "In reality, the dimensions don't sincerely represent hard-concepts like \"age\" or \"hair\", but it's useful as a way to think about how the semantic relationships are captured.\n",
        "\n",
        "Alright, with some history behind us - let's examine how these might help us choose relevant context."
      ]
    },
    {
      "cell_type": "markdown",
      "metadata": {},
      "source": [
        "Let's begin with a simple example - simply looking at how close to embedding vectors are for a given phrase.\n",
        "\n",
        "When we use the term \"close\" in this notebook - we're referring to a distance measure called \"cosine similarity\".\n",
        "\n",
        "We discussed above that if two embeddings are close - they are semantically similar, cosine similarity gives us a quick way to measure how similar two vectors are!\n",
        "\n",
        "Closeness is measured from 1 to -1, with 1 being extremely close and -1 being extremely close to opposite in meaning.\n",
        "\n",
        "Let's implement it with Numpy below."
      ]
    },
    {
      "cell_type": "code",
      "execution_count": 8,
      "metadata": {},
      "outputs": [],
      "source": [
        "import numpy as np\n",
        "from numpy.linalg import norm\n",
        "\n",
        "def cosine_similarity(vec_1, vec_2):\n",
        "  return np.dot(vec_1, vec_2) / (norm(vec_1) * norm(vec_2))"
      ]
    },
    {
      "cell_type": "markdown",
      "metadata": {},
      "source": [
        "Now let's use the `text-embedding-3-small` embedding model (more on that in a second) to embed two sentences. In order to use this embedding model endpoint - we'll need to provide our OpenAI API key!"
      ]
    },
    {
      "cell_type": "code",
      "execution_count": 9,
      "metadata": {
        "colab": {
          "base_uri": "https://localhost:8080/"
        },
        "id": "EaOETZGpR6yv",
        "outputId": "1239abf1-faff-49f2-a67c-7350e50fb1b9"
      },
      "outputs": [],
      "source": [
        "import os\n",
        "import openai\n",
        "from getpass import getpass\n",
        "\n",
        "openai.api_key = getpass(\"OpenAI API Key: \")\n",
        "os.environ[\"OPENAI_API_KEY\"] = openai.api_key"
      ]
    },
    {
      "cell_type": "code",
      "execution_count": 10,
      "metadata": {},
      "outputs": [],
      "source": [
        "# import os\n",
        "# from dotenv import load_dotenv\n",
        "\n",
        "# load_dotenv()\n",
        "# openai_api_key = os.getenv(\"OPENAI_API_KEY\")\n",
        "# if openai_api_key:\n",
        "#     openai.api_key = openai_api_key\n",
        "# else:\n",
        "#     print(\"API key not found in the environment variables\")"
      ]
    },
    {
      "cell_type": "code",
      "execution_count": 11,
      "metadata": {},
      "outputs": [],
      "source": [
        "from aimakerspace.openai_utils.embedding import EmbeddingModel\n",
        "\n",
        "embedding_model = EmbeddingModel()"
      ]
    },
    {
      "cell_type": "markdown",
      "metadata": {},
      "source": [
        "Let's define our two sentences:"
      ]
    },
    {
      "cell_type": "code",
      "execution_count": 12,
      "metadata": {},
      "outputs": [],
      "source": [
        "puppy_sentence = \"I love puppies!\"\n",
        "dog_sentence = \"I love dogs!\""
      ]
    },
    {
      "cell_type": "markdown",
      "metadata": {},
      "source": [
        "Now we can convert those into embedding vectors using OpenAI!"
      ]
    },
    {
      "cell_type": "code",
      "execution_count": 13,
      "metadata": {},
      "outputs": [],
      "source": [
        "puppy_vector = embedding_model.get_embedding(puppy_sentence)\n",
        "dog_vector = embedding_model.get_embedding(dog_sentence)"
      ]
    },
    {
      "cell_type": "markdown",
      "metadata": {},
      "source": [
        "Now we can determine how closely they are related using our distance measure!"
      ]
    },
    {
      "cell_type": "code",
      "execution_count": 14,
      "metadata": {},
      "outputs": [
        {
          "data": {
            "text/plain": [
              "0.8428612445733404"
            ]
          },
          "execution_count": 14,
          "metadata": {},
          "output_type": "execute_result"
        }
      ],
      "source": [
        "cosine_similarity(puppy_vector, dog_vector)"
      ]
    },
    {
      "cell_type": "markdown",
      "metadata": {},
      "source": [
        "Remember, with cosine similarity, close to 1. means they're very close!\n",
        "\n",
        "Let's see what happens if we use a different set of sentences."
      ]
    },
    {
      "cell_type": "code",
      "execution_count": 15,
      "metadata": {},
      "outputs": [
        {
          "data": {
            "text/plain": [
              "0.404683920036471"
            ]
          },
          "execution_count": 15,
          "metadata": {},
          "output_type": "execute_result"
        }
      ],
      "source": [
        "puppy_sentence = \"I love puppies!\"\n",
        "cat_sentence = \"I dislike cats!\"\n",
        "\n",
        "puppy_vector = embedding_model.get_embedding(puppy_sentence)\n",
        "cat_vector = embedding_model.get_embedding(cat_sentence)\n",
        "\n",
        "cosine_similarity(puppy_vector, cat_vector)"
      ]
    },
    {
      "cell_type": "markdown",
      "metadata": {},
      "source": [
        "As you can see - these vectors are further apart - as expected!\n",
        "\n",
        "Now that we've gotten some background - lets see this put together with a few extra layers on top!"
      ]
    },
    {
      "cell_type": "markdown",
      "metadata": {},
      "source": [
        "### Vector Database\n",
        "\n",
        "Let's set up our vector database to hold all our documents and their embeddings!"
      ]
    },
    {
      "cell_type": "markdown",
      "metadata": {
        "id": "kDQrfAR1R6yv"
      },
      "source": [
        "While this is all baked into 1 call - we can look at some of the code that powers this process to get a better understanding:\n",
        "\n",
        "Let's look at our `VectorDatabase().__init__()`:\n",
        "\n",
        "```python\n",
        "def __init__(self, embedding_model: EmbeddingModel = None):\n",
        "        self.vectors = defaultdict(np.array)\n",
        "        self.embedding_model = embedding_model or EmbeddingModel()\n",
        "```\n",
        "\n",
        "As you can see - our vectors are merely stored as a dictionary of `np.array` objects.\n",
        "\n",
        "Secondly, our `VectorDatabase()` has a default `EmbeddingModel()` which is a wrapper for OpenAI's `text-embedding-3-small` model.\n",
        "\n",
        "> **Quick Info About `text-embedding-3-small`**:\n",
        "> - It has a context window of **8191** tokens\n",
        "> - It returns vectors with dimension **1536**"
      ]
    },
    {
      "cell_type": "markdown",
      "metadata": {
        "id": "L273pRdeR6yv"
      },
      "source": [
        "#### ❓Question #1:\n",
        "\n",
        "The default embedding dimension of `text-embedding-3-small` is 1536, as noted above. \n",
        "\n",
        "1. Is there any way to modify this dimension?<br>\n",
        "Developers can shorten embeddings (i.e. remove some numbers from the end of the sequence) without the embedding losing its concept-representing properties (measure by the MTEB* score) by passing in the dimensions API parameter (See the updated `embedding.py` file in the [openai utils directory](./aimakerspace/openai_utils/embedding.py)). Changed the deafult from 1536 ro 512.\n",
        "\n",
        "*MTEB (Massive Text Embedding Benchmark) score is a metric used to evaluate the performance of text embedding models. The MTEB benchmark assesses various aspects of embedding quality across different tasks and datasets, providing a comprehensive evaluation of a model's ability to generate meaningful and useful text embeddings. See MTEB score by model and embedding size.\n",
        "\n",
        "| Model                     | Embedding Size | Average MTEB Score |\n",
        "|---------------------------|----------------|---------------------|\n",
        "| ada v2                    | 1536           | 61.0                |\n",
        "| text-embedding-3-small    | 512            | 61.6                |\n",
        "|                          | 1536           | 62.3                |\n",
        "| text-embedding-3-large    | 256            | 62.0                |\n",
        "|                          | 1024           | 64.1                |\n",
        "|                          | 3072           | 64.6                |\n",
        "\n",
        "\n",
        "2. What technique does OpenAI use to achieve this?<br>\n",
        "Embedding models were trained with a technique (Matryoshka Representation Learning) that allows developers to trade-off performance and cost of using embeddings. \n",
        "\n",
        "> NOTE: Check out this [API documentation](https://platform.openai.com/docs/api-reference/embeddings/create) for the answer to question #1, and [this documentation](https://platform.openai.com/docs/guides/embeddings/use-cases) for an answer to question #2!"
      ]
    },
    {
      "cell_type": "markdown",
      "metadata": {
        "id": "w5FZY7K3R6yv"
      },
      "source": [
        "We can call the `async_get_embeddings` method of our `EmbeddingModel()` on a list of `str` and receive a list of `float` back!\n",
        "\n",
        "```python\n",
        "async def async_get_embeddings(self, list_of_text: List[str]) -> List[List[float]]:\n",
        "        return await get_embeddings(\n",
        "            list_of_text=list_of_text, engine=self.embeddings_model_name\n",
        "        )\n",
        "```"
      ]
    },
    {
      "cell_type": "markdown",
      "metadata": {
        "id": "cSct6X0aR6yv"
      },
      "source": [
        "We cast those to `np.array` when we build our `VectorDatabase()`:\n",
        "\n",
        "```python\n",
        "async def abuild_from_list(self, list_of_text: List[str]) -> \"VectorDatabase\":\n",
        "        embeddings = await self.embedding_model.async_get_embeddings(list_of_text)\n",
        "        for text, embedding in zip(list_of_text, embeddings):\n",
        "            self.insert(text, np.array(embedding))\n",
        "        return self\n",
        "```\n",
        "\n",
        "And that's all we need to do!"
      ]
    },
    {
      "cell_type": "code",
      "execution_count": 16,
      "metadata": {},
      "outputs": [
        {
          "data": {
            "text/plain": [
              "512"
            ]
          },
          "execution_count": 16,
          "metadata": {},
          "output_type": "execute_result"
        }
      ],
      "source": [
        "len(puppy_vector)"
      ]
    },
    {
      "cell_type": "markdown",
      "metadata": {},
      "source": [
        "### Generate Metadata for Few Shot Learning"
      ]
    },
    {
      "cell_type": "code",
      "execution_count": 17,
      "metadata": {},
      "outputs": [],
      "source": [
        "from aimakerspace.openai_utils.prompts import (\n",
        "    UserRolePrompt,\n",
        "    SystemRolePrompt,\n",
        "    AssistantRolePrompt,\n",
        ")\n",
        "\n",
        "from aimakerspace.openai_utils.chatmodel import ChatOpenAI\n",
        "\n",
        "chat_openai = ChatOpenAI()\n",
        "\n",
        "from typing import List, Dict\n",
        "import json\n",
        "\n",
        "def generate_metadata_for_chunk(chunk: str) -> dict:\n",
        "    metadata_prompt_template = \"Generate metadata for the following text chunk:\\n\\n{chunk}\\n\\nMetadata should only include one of the categories - business, technology or philosophical and one of the following sentiments - positive, neutral or negative in JSON format.\"\n",
        "    response = chat_openai.run(\n",
        "        messages=[UserRolePrompt(metadata_prompt_template).create_message(chunk=chunk)],\n",
        "        response_format={ \"type\": \"json_object\" },\n",
        "        max_tokens=150\n",
        "    )\n",
        "    metadata_text = json.loads(response)\n",
        "    # You can parse metadata_text into a dictionary format if needed\n",
        "    return metadata_text  # Here it returns as text, parsing may be required\n",
        "\n",
        "def process_and_generate_metadata(split_documents: str) -> List[dict]:\n",
        "    chunks = split_documents\n",
        "    \n",
        "    metadata_list = []\n",
        "\n",
        "    for chunk in chunks:\n",
        "        metadata = generate_metadata_for_chunk(chunk)\n",
        "        metadata_list.append({\n",
        "            \"chunk\": chunk,\n",
        "            \"metadata\": metadata\n",
        "        })\n",
        "\n",
        "    return metadata_list\n",
        "\n",
        "metadata = process_and_generate_metadata(split_documents)"
      ]
    },
    {
      "cell_type": "code",
      "execution_count": 18,
      "metadata": {},
      "outputs": [
        {
          "data": {
            "text/plain": [
              "[{'category': 'business', 'sentiment': 'positive'},\n",
              " {'Category': 'technology', 'Sentiment': 'positive'},\n",
              " {'category': 'business', 'sentiment': 'positive'},\n",
              " {'category': 'business', 'sentiment': 'positive'},\n",
              " {'category': 'business', 'sentiment': 'positive'},\n",
              " {'category': 'business', 'sentiment': 'positive'},\n",
              " {'category': 'business', 'sentiment': 'positive'},\n",
              " {'category': 'business', 'sentiment': 'neutral'},\n",
              " {'category': 'business', 'sentiment': 'neutral'},\n",
              " {'category': 'business', 'sentiment': 'negative'},\n",
              " {'category': 'business', 'sentiment': 'neutral'},\n",
              " {'category': 'business', 'sentiment': 'neutral'},\n",
              " {'category': 'business', 'sentiment': 'neutral'},\n",
              " {'category': 'business', 'sentiment': 'negative'},\n",
              " {'category': 'business', 'sentiment': 'neutral'},\n",
              " {'category': 'business', 'sentiment': 'neutral'},\n",
              " {'category': 'business', 'sentiment': 'neutral'},\n",
              " {'category': 'business', 'sentiment': 'neutral'},\n",
              " {'category': 'business', 'sentiment': 'positive'},\n",
              " {'category': 'business', 'sentiment': 'neutral'},\n",
              " {'category': 'business', 'sentiment': 'neutral'},\n",
              " {'category': 'business', 'sentiment': 'neutral'},\n",
              " {'category': 'business', 'sentiment': 'neutral'},\n",
              " {'Category': 'business', 'Sentiment': 'neutral'},\n",
              " {'category': 'business', 'sentiment': 'neutral'},\n",
              " {'category': 'technology', 'sentiment': 'neutral'},\n",
              " {'category': 'business', 'sentiment': 'neutral'},\n",
              " {'category': 'business', 'sentiment': 'neutral'},\n",
              " {'category': 'business', 'sentiment': 'neutral'},\n",
              " {'category': 'business', 'sentiment': 'neutral'},\n",
              " {'Category': 'business', 'Sentiment': 'neutral'},\n",
              " {'category': 'business', 'sentiment': 'neutral'},\n",
              " {'category': 'business', 'sentiment': 'positive'},\n",
              " {'Category': 'business', 'Sentiment': 'neutral'},\n",
              " {'category': 'business', 'sentiment': 'positive'},\n",
              " {'category': 'business', 'sentiment': 'neutral'},\n",
              " {'category': 'business', 'sentiment': 'positive'},\n",
              " {'Category': 'business', 'Sentiment': 'positive'},\n",
              " {'category': 'business', 'sentiment': 'neutral'},\n",
              " {'category': 'business', 'sentiment': 'neutral'},\n",
              " {'category': 'business', 'sentiment': 'neutral'},\n",
              " {'category': 'business', 'sentiment': 'positive'},\n",
              " {'category': 'technology', 'sentiment': 'positive'},\n",
              " {'category': 'technology', 'sentiment': 'positive'},\n",
              " {'Category': 'business', 'Sentiment': 'positive'},\n",
              " {'category': 'business', 'sentiment': 'positive'},\n",
              " {'category': 'business', 'sentiment': 'positive'},\n",
              " {'category': 'business', 'sentiment': 'neutral'},\n",
              " {'category': 'business', 'sentiment': 'neutral'},\n",
              " {'category': 'business', 'sentiment': 'neutral'},\n",
              " {'category': 'technology', 'sentiment': 'neutral'},\n",
              " {'category': 'business', 'sentiment': 'positive'},\n",
              " {'category': 'business', 'sentiment': 'positive'},\n",
              " {'category': 'business', 'sentiment': 'neutral'},\n",
              " {'category': 'business', 'sentiment': 'neutral'},\n",
              " {'category': 'business', 'sentiment': 'neutral'},\n",
              " {'category': 'business', 'sentiment': 'neutral'},\n",
              " {'Category': 'business', 'Sentiment': 'positive'},\n",
              " {'category': 'business', 'sentiment': 'positive'},\n",
              " {'category': 'business', 'sentiment': 'neutral'},\n",
              " {'category': 'business', 'sentiment': 'positive'},\n",
              " {'category': 'business', 'sentiment': 'neutral'},\n",
              " {'technology': 'neutral'},\n",
              " {'category': 'business', 'sentiment': 'neutral'},\n",
              " {'category': 'business', 'sentiment': 'neutral'},\n",
              " {'category': 'business', 'sentiment': 'neutral'},\n",
              " {'category': 'philosophical', 'sentiment': 'neutral'},\n",
              " {'Category': 'business', 'Sentiment': 'neutral'},\n",
              " {'category': 'business', 'sentiment': 'neutral'},\n",
              " {'category': 'business', 'sentiment': 'neutral'},\n",
              " {'category': 'business', 'sentiment': 'neutral'},\n",
              " {'category': 'business', 'sentiment': 'neutral'},\n",
              " {'category': 'philosophical', 'sentiment': 'negative'},\n",
              " {'category': 'business', 'sentiment': 'neutral'},\n",
              " {'category': 'business', 'sentiment': 'negative'},\n",
              " {'category': 'technology', 'sentiment': 'negative'},\n",
              " {'Category': 'business', 'Sentiment': 'neutral'},\n",
              " {'Category': 'business', 'Sentiment': 'neutral'},\n",
              " {'category': 'philosophical', 'sentiment': 'negative'},\n",
              " {'Category': 'business', 'Sentiment': 'neutral'},\n",
              " {'category': 'business', 'sentiment': 'neutral'},\n",
              " {'category': 'business', 'sentiment': 'neutral'},\n",
              " {'category': 'business', 'sentiment': 'negative'},\n",
              " {'category': 'business', 'sentiment': 'neutral'},\n",
              " {'Category': 'business', 'Sentiment': 'positive'},\n",
              " {'category': 'business', 'sentiment': 'neutral'},\n",
              " {'Category': 'business', 'Sentiment': 'neutral'},\n",
              " {'category': 'business', 'sentiment': 'neutral'},\n",
              " {'Category': 'business', 'Sentiment': 'negative'},\n",
              " {'Category': 'business', 'Sentiment': 'negative'},\n",
              " {'category': 'business', 'sentiment': 'negative'},\n",
              " {'category': 'business', 'sentiment': 'positive'},\n",
              " {'category': 'business', 'sentiment': 'neutral'},\n",
              " {'Category': 'business', 'Sentiment': 'neutral'},\n",
              " {'category': 'business', 'sentiment': 'neutral'},\n",
              " {'category': 'technology', 'sentiment': 'positive'},\n",
              " {'category': 'technology', 'sentiment': 'positive'},\n",
              " {'category': 'technology', 'sentiment': 'positive'},\n",
              " {'category': 'technology', 'sentiment': 'neutral'},\n",
              " {'category': 'technology', 'sentiment': 'positive'},\n",
              " {'category': 'business', 'sentiment': 'neutral'},\n",
              " {'category': 'technology', 'sentiment': 'positive'},\n",
              " {'category': 'technology', 'sentiment': 'positive'},\n",
              " {'category': 'business', 'sentiment': 'positive'},\n",
              " {'category': 'business', 'sentiment': 'positive'},\n",
              " {'category': 'business', 'sentiment': 'neutral'},\n",
              " {'category': 'business', 'sentiment': 'neutral'},\n",
              " {'category': 'business', 'sentiment': 'neutral'},\n",
              " {'Category': 'business', 'Sentiment': 'positive'},\n",
              " {'category': 'business', 'sentiment': 'positive'},\n",
              " {'category': 'business', 'sentiment': 'neutral'},\n",
              " {'category': 'business', 'sentiment': 'negative'},\n",
              " {'Category': 'business', 'Sentiment': 'neutral'},\n",
              " {'category': 'business', 'sentiment': 'neutral'},\n",
              " {'category': 'business', 'sentiment': 'neutral'},\n",
              " {'category': 'business', 'sentiment': 'negative'},\n",
              " {'category': 'business', 'sentiment': 'neutral'},\n",
              " {'category': 'business', 'sentiment': 'neutral'},\n",
              " {'category': 'business', 'sentiment': 'positive'},\n",
              " {'category': 'business', 'sentiment': 'neutral'},\n",
              " {'category': 'business', 'sentiment': 'positive'},\n",
              " {'category': 'business', 'sentiment': 'positive'},\n",
              " {'category': 'business', 'sentiment': 'positive'},\n",
              " {'Category': 'business', 'Sentiment': 'neutral'},\n",
              " {'category': 'business', 'sentiment': 'neutral'},\n",
              " {'category': 'business', 'sentiment': 'neutral'},\n",
              " {'category': 'business', 'sentiment': 'neutral'},\n",
              " {'category': 'business', 'sentiment': 'negative'},\n",
              " {'category': 'business', 'sentiment': 'negative'},\n",
              " {'category': 'business', 'sentiment': 'negative'},\n",
              " {'category': 'business', 'sentiment': 'neutral'},\n",
              " {'category': 'technology', 'sentiment': 'neutral'},\n",
              " {'category': 'business', 'sentiment': 'neutral'},\n",
              " {'Category': 'business', 'Sentiment': 'neutral'},\n",
              " {'category': 'business', 'sentiment': 'neutral'},\n",
              " {'category': 'business', 'sentiment': 'positive'},\n",
              " {'category': 'business', 'sentiment': 'neutral'},\n",
              " {'category': 'technology', 'sentiment': 'neutral'},\n",
              " {'category': 'business', 'sentiment': 'neutral'},\n",
              " {'category': 'business', 'sentiment': 'positive'},\n",
              " {'category': 'business', 'sentiment': 'positive'},\n",
              " {'Category': 'philosophical', 'Sentiment': 'positive'},\n",
              " {'category': 'business', 'sentiment': 'positive'},\n",
              " {'category': 'business', 'sentiment': 'negative'},\n",
              " {'category': 'business', 'sentiment': 'positive'},\n",
              " {'category': 'technology', 'sentiment': 'neutral'},\n",
              " {'category': 'business', 'sentiment': 'neutral'},\n",
              " {'category': 'business', 'sentiment': 'neutral'},\n",
              " {'category': 'business', 'sentiment': 'neutral'},\n",
              " {'category': 'business', 'sentiment': 'positive'},\n",
              " {'category': 'business', 'sentiment': 'positive'},\n",
              " {'category': 'business', 'sentiment': 'negative'},\n",
              " {'category': 'business', 'sentiment': 'negative'},\n",
              " {'category': 'business', 'sentiment': 'positive'},\n",
              " {'category': 'business', 'sentiment': 'positive'},\n",
              " {'category': 'business', 'sentiment': 'positive'},\n",
              " {'category': 'business', 'sentiment': 'negative'},\n",
              " {'category': 'business', 'sentiment': 'neutral'},\n",
              " {'category': 'business', 'sentiment': 'neutral'},\n",
              " {'category': 'business', 'sentiment': 'negative'},\n",
              " {'category': 'business', 'sentiment': 'neutral'},\n",
              " {'category': 'business', 'sentiment': 'positive'},\n",
              " {'category': 'business', 'sentiment': 'neutral'},\n",
              " {'Category': 'business', 'Sentiment': 'negative'},\n",
              " {'category': 'business', 'sentiment': 'negative'},\n",
              " {'category': 'business', 'sentiment': 'neutral'},\n",
              " {'category': 'business', 'sentiment': 'positive'},\n",
              " {'category': 'business', 'sentiment': 'positive'},\n",
              " {'category': 'business', 'sentiment': 'negative'},\n",
              " {'Category': 'business', 'Sentiment': 'positive'},\n",
              " {'category': 'business', 'sentiment': 'neutral'},\n",
              " {'category': 'business', 'sentiment': 'positive'},\n",
              " {'category': 'business', 'sentiment': 'positive'},\n",
              " {'category': 'business', 'sentiment': 'positive'},\n",
              " {'category': 'business', 'sentiment': 'positive'},\n",
              " {'category': 'business', 'sentiment': 'neutral'},\n",
              " {'category': 'business', 'sentiment': 'positive'},\n",
              " {'Category': 'business', 'Sentiment': 'positive'},\n",
              " {'category': 'business', 'sentiment': 'positive'},\n",
              " {'category': 'business', 'sentiment': 'negative'},\n",
              " {'category': 'business', 'sentiment': 'negative'},\n",
              " {'category': 'business', 'sentiment': 'negative'},\n",
              " {'category': 'philosophical', 'sentiment': 'neutral'},\n",
              " {'category': 'business', 'sentiment': 'neutral'},\n",
              " {'category': 'technology', 'sentiment': 'neutral'},\n",
              " {'Category': 'philosophical', 'Sentiment': 'neutral'},\n",
              " {'category': 'business', 'sentiment': 'positive'},\n",
              " {'category': 'business', 'sentiment': 'positive'},\n",
              " {'category': 'philosophical', 'sentiment': 'positive'},\n",
              " {'Category': 'business', 'Sentiment': 'positive'},\n",
              " {'category': 'philosophical', 'sentiment': 'positive'},\n",
              " {'category': 'business', 'sentiment': 'neutral'},\n",
              " {'Category': 'business', 'Sentiment': 'neutral'},\n",
              " {'Category': 'philosophical', 'Sentiment': 'neutral'},\n",
              " {'category': 'philosophical', 'sentiment': 'neutral'},\n",
              " {'category': 'business', 'sentiment': 'neutral'},\n",
              " {'category': 'business', 'sentiment': 'neutral'},\n",
              " {'category': 'business', 'sentiment': 'neutral'},\n",
              " {'category': 'business', 'sentiment': 'neutral'},\n",
              " {'Category': 'business', 'Sentiment': 'neutral'},\n",
              " {'Category': 'philosophical', 'Sentiment': 'positive'},\n",
              " {'Category': 'technology', 'Sentiment': 'positive'},\n",
              " {'category': 'business', 'sentiment': 'neutral'},\n",
              " {'category': 'technology', 'sentiment': 'positive'},\n",
              " {'category': 'technology', 'sentiment': 'positive'},\n",
              " {'category': 'philosophical', 'sentiment': 'neutral'},\n",
              " {'category': 'philosophical', 'sentiment': 'neutral'},\n",
              " {'category': 'educational', 'sentiment': 'positive'},\n",
              " {'category': 'technology', 'sentiment': 'positive'},\n",
              " {'Category': 'business', 'Sentiment': 'positive'},\n",
              " {'category': 'philosophical', 'sentiment': 'positive'},\n",
              " {'category': 'business', 'sentiment': 'positive'},\n",
              " {'category': 'business', 'sentiment': 'positive'},\n",
              " {'category': 'business', 'sentiment': 'positive'},\n",
              " {'category': 'technology', 'sentiment': 'positive'},\n",
              " {'category': 'business', 'sentiment': 'positive'},\n",
              " {'category': 'business', 'sentiment': 'positive'},\n",
              " {'Category': 'business', 'Sentiment': 'positive'},\n",
              " {'category': 'business', 'sentiment': 'positive'},\n",
              " {'category': 'business', 'sentiment': 'positive'},\n",
              " {'category': 'business', 'sentiment': 'positive'},\n",
              " {'category': 'business', 'sentiment': 'positive'},\n",
              " {'category': 'philosophical', 'sentiment': 'neutral'},\n",
              " {'category': 'philosophical', 'sentiment': 'neutral'},\n",
              " {'category': 'philosophical', 'sentiment': 'neutral'},\n",
              " {'category': 'philosophical', 'sentiment': 'neutral'},\n",
              " {'Category': 'philosophical', 'Sentiment': 'positive'},\n",
              " {'category': 'philosophical', 'sentiment': 'neutral'},\n",
              " {'category': 'philosophical', 'sentiment': 'neutral'},\n",
              " {'Category': 'philosophical', 'Sentiment': 'positive'},\n",
              " {'category': 'business', 'sentiment': 'positive'},\n",
              " {'category': 'business', 'sentiment': 'neutral'},\n",
              " {'category': 'business', 'sentiment': 'positive'},\n",
              " {'category': 'business', 'sentiment': 'positive'},\n",
              " {'category': 'philosophical', 'sentiment': 'neutral'},\n",
              " {'category': 'business', 'sentiment': 'neutral'},\n",
              " {'category': 'business', 'sentiment': 'positive'},\n",
              " {'category': 'business', 'sentiment': 'positive'},\n",
              " {'category': 'business', 'sentiment': 'positive'},\n",
              " {'Category': 'business', 'Sentiment': 'neutral'},\n",
              " {'category': 'business', 'sentiment': 'positive'},\n",
              " {'category': 'philosophical', 'sentiment': 'positive'},\n",
              " {'category': 'business', 'sentiment': 'neutral'},\n",
              " {'category': 'philosophical', 'sentiment': 'neutral'},\n",
              " {'category': 'technology', 'sentiment': 'positive'},\n",
              " {'category': 'philosophical', 'sentiment': 'positive'},\n",
              " {'category': 'business', 'sentiment': 'positive'},\n",
              " {'category': 'philosophical', 'sentiment': 'positive'},\n",
              " {'category': 'philosophical', 'sentiment': 'positive'},\n",
              " {'Category': 'business', 'Sentiment': 'positive'},\n",
              " {'category': 'business', 'sentiment': 'positive'},\n",
              " {'category': 'philosophical', 'sentiment': 'positive'},\n",
              " {'category': 'philosophical', 'sentiment': 'positive'},\n",
              " {'category': 'philosophical', 'sentiment': 'positive'},\n",
              " {'category': 'philosophical', 'sentiment': 'positive'},\n",
              " {'category': 'business', 'sentiment': 'neutral'},\n",
              " {'category': 'business', 'sentiment': 'neutral'},\n",
              " {'category': 'technology', 'sentiment': 'neutral'},\n",
              " {'category': 'technology', 'sentiment': 'positive'},\n",
              " {'Category': 'business', 'Sentiment': 'neutral'},\n",
              " {'category': 'technology', 'sentiment': 'neutral'},\n",
              " {'category': 'business', 'sentiment': 'positive'},\n",
              " {'category': 'philosophical', 'sentiment': 'positive'},\n",
              " {'category': 'philosophical', 'sentiment': 'positive'},\n",
              " {'category': 'philosophical', 'sentiment': 'neutral'},\n",
              " {'category': 'philosophical', 'sentiment': 'positive'},\n",
              " {'Category': 'philosophical', 'Sentiment': 'positive'},\n",
              " {'Category': 'philosophical', 'Sentiment': 'positive'},\n",
              " {'category': 'philosophical', 'sentiment': 'positive'},\n",
              " {'category': 'business', 'sentiment': 'positive'},\n",
              " {'category': 'business', 'sentiment': 'positive'},\n",
              " {'category': 'philosophical', 'sentiment': 'neutral'},\n",
              " {'Category': 'philosophical', 'Sentiment': 'neutral'},\n",
              " {'category': 'philosophical', 'sentiment': 'positive'},\n",
              " {'category': 'business', 'sentiment': 'negative'},\n",
              " {'category': 'business', 'sentiment': 'negative'},\n",
              " {'category': 'business', 'sentiment': 'neutral'},\n",
              " {'category': 'business', 'sentiment': 'neutral'},\n",
              " {'category': 'business', 'sentiment': 'neutral'},\n",
              " {'category': 'business', 'sentiment': 'neutral'},\n",
              " {'category': 'business', 'sentiment': 'neutral'},\n",
              " {'category': 'business', 'sentiment': 'neutral'},\n",
              " {'category': 'business', 'sentiment': 'neutral'},\n",
              " {'category': 'business', 'sentiment': 'neutral'},\n",
              " {'category': 'philosophical', 'sentiment': 'neutral'},\n",
              " {'category': 'business', 'sentiment': 'negative'},\n",
              " {'category': 'business', 'sentiment': 'positive'},\n",
              " {'category': 'business', 'sentiment': 'neutral'},\n",
              " {'category': 'business', 'sentiment': 'neutral'},\n",
              " {'category': 'philosophical', 'sentiment': 'neutral'},\n",
              " {'category': 'business', 'sentiment': 'positive'},\n",
              " {'Category': 'philosophical', 'Sentiment': 'neutral'},\n",
              " {'category': 'philosophical', 'sentiment': 'neutral'},\n",
              " {'category': 'philosophical', 'sentiment': 'neutral'},\n",
              " {'Category': 'business', 'Sentiment': 'positive'},\n",
              " {'category': 'business', 'sentiment': 'neutral'},\n",
              " {'Category': 'business', 'Sentiment': 'neutral'},\n",
              " {'category': 'technology', 'sentiment': 'positive'},\n",
              " {'category': 'business', 'sentiment': 'neutral'},\n",
              " {'category': 'business', 'sentiment': 'neutral'},\n",
              " {'category': 'philosophical', 'sentiment': 'positive'},\n",
              " {'category': 'philosophical', 'sentiment': 'neutral'},\n",
              " {'Category': 'philosophical', 'Sentiment': 'neutral'},\n",
              " {'category': 'philosophical', 'sentiment': 'neutral'},\n",
              " {'category': 'philosophical', 'sentiment': 'neutral'},\n",
              " {'category': 'philosophical', 'sentiment': 'neutral'},\n",
              " {'category': 'philosophical', 'sentiment': 'neutral'},\n",
              " {'category': 'philosophical', 'sentiment': 'neutral'},\n",
              " {'Category': 'philosophical', 'Sentiment': 'neutral'},\n",
              " {'category': 'philosophical', 'sentiment': 'neutral'},\n",
              " {'category': 'philosophical', 'sentiment': 'neutral'},\n",
              " {'category': 'philosophical', 'sentiment': 'neutral'},\n",
              " {'category': 'philosophical', 'sentiment': 'positive'},\n",
              " {'Category': 'philosophical', 'Sentiment': 'neutral'},\n",
              " {'category': 'philosophical', 'sentiment': 'neutral'},\n",
              " {'category': 'philosophical', 'sentiment': 'neutral'},\n",
              " {'category': 'philosophical', 'sentiment': 'neutral'},\n",
              " {'category': 'business', 'sentiment': 'neutral'},\n",
              " {'category': 'philosophical', 'sentiment': 'positive'},\n",
              " {'category': 'philosophical', 'sentiment': 'neutral'},\n",
              " {'category': 'philosophical', 'sentiment': 'neutral'},\n",
              " {'category': 'technology', 'sentiment': 'positive'},\n",
              " {'category': 'philosophical', 'sentiment': 'neutral'},\n",
              " {'category': 'philosophical', 'sentiment': 'positive'},\n",
              " {'category': 'philosophical', 'sentiment': 'positive'},\n",
              " {'category': 'philosophical', 'sentiment': 'neutral'},\n",
              " {'category': 'philosophical', 'sentiment': 'neutral'},\n",
              " {'category': 'philosophical', 'sentiment': 'neutral'},\n",
              " {'category': 'business', 'sentiment': 'neutral'},\n",
              " {'category': 'philosophical', 'sentiment': 'positive'},\n",
              " {'Category': 'business', 'Sentiment': 'positive'},\n",
              " {'category': 'technology', 'sentiment': 'neutral'},\n",
              " {'category': 'business', 'sentiment': 'positive'},\n",
              " {'Category': 'business', 'Sentiment': 'positive'},\n",
              " {'Category': 'business', 'Sentiment': 'positive'},\n",
              " {'Category': 'business', 'Sentiment': 'positive'},\n",
              " {'category': 'technology', 'sentiment': 'positive'},\n",
              " {'category': 'business', 'sentiment': 'positive'},\n",
              " {'category': 'technology', 'sentiment': 'positive'},\n",
              " {'category': 'technology', 'sentiment': 'positive'},\n",
              " {'category': 'technology', 'sentiment': 'positive'},\n",
              " {'category': 'technology', 'sentiment': 'positive'},\n",
              " {'category': 'philosophical', 'sentiment': 'positive'},\n",
              " {'category': 'technology', 'sentiment': 'positive'},\n",
              " {'category': 'technology', 'sentiment': 'positive'},\n",
              " {'category': 'technology', 'sentiment': 'positive'},\n",
              " {'category': 'technology', 'sentiment': 'positive'},\n",
              " {'category': 'technology', 'sentiment': 'positive'},\n",
              " {'category': 'technology', 'sentiment': 'positive'},\n",
              " {'category': 'technology', 'sentiment': 'positive'},\n",
              " {'category': 'technology', 'sentiment': 'positive'},\n",
              " {'category': 'technology', 'sentiment': 'positive'},\n",
              " {'metadata': {'category': 'technology', 'sentiment': 'positive'}},\n",
              " {'category': 'technology', 'sentiment': 'neutral'},\n",
              " {'category': 'philosophical', 'sentiment': 'neutral'},\n",
              " {'category': 'business', 'sentiment': 'negative'},\n",
              " {'category': 'business', 'sentiment': 'neutral'},\n",
              " {'category': 'business', 'sentiment': 'neutral'},\n",
              " {'category': 'technology', 'sentiment': 'neutral'},\n",
              " {'Category': 'technology', 'Sentiment': 'neutral'},\n",
              " {'category': 'technology', 'sentiment': 'positive'},\n",
              " {'category': 'business', 'sentiment': 'positive'},\n",
              " {'category': 'business', 'sentiment': 'positive'},\n",
              " {'category': 'business', 'sentiment': 'neutral'},\n",
              " {'category': 'technology', 'sentiment': 'neutral'},\n",
              " {'category': 'business', 'sentiment': 'negative'},\n",
              " {'category': 'technology', 'sentiment': 'negative'},\n",
              " {'category': 'technology', 'sentiment': 'negative'},\n",
              " {'category': 'business', 'sentiment': 'negative'},\n",
              " {'category': 'business', 'sentiment': 'negative'},\n",
              " {'Category': 'Technology', 'Sentiment': 'Negative'},\n",
              " {'category': 'technology', 'sentiment': 'negative'},\n",
              " {'category': 'technology', 'sentiment': 'neutral'}]"
            ]
          },
          "execution_count": 18,
          "metadata": {},
          "output_type": "execute_result"
        }
      ],
      "source": [
        "metadata_list = [entry['metadata'] for entry in metadata]\n",
        "metadata_list"
      ]
    },
    {
      "cell_type": "markdown",
      "metadata": {},
      "source": [
        "### Review & update metadata [Later]"
      ]
    },
    {
      "cell_type": "markdown",
      "metadata": {},
      "source": [
        "### Build VectorDatabase with metetadata"
      ]
    },
    {
      "cell_type": "code",
      "execution_count": 19,
      "metadata": {
        "id": "O4KoLbVDR6yv"
      },
      "outputs": [],
      "source": [
        "from aimakerspace.vectordatabase import VectorDatabase\n",
        "vector_db = VectorDatabase()\n",
        "vector_db = asyncio.run(vector_db.abuild_from_list(split_documents, metadata_list))"
      ]
    },
    {
      "cell_type": "markdown",
      "metadata": {
        "id": "SSZwaGvpR6yv"
      },
      "source": [
        "#### ❓Question #2:\n",
        "\n",
        "What are the benefits of using an `async` approach to collecting our embeddings? <br>\n",
        "An `async` approach to collect embeddings allows the embedding operation to execute concurrrently especially in case of I/O tasks in form of API calls & CPU utilization. This results in improved performance, higher utilization of resources, scalability in terms of concurrency of task execution and improved reponsiveness to user inputs. \n",
        "\n",
        "`asyncio.run()` enables the running of an `async` function.\n",
        "\n",
        "> NOTE: Determining the core difference between `async` and `sync` will be useful! If you get stuck - ask ChatGPT!"
      ]
    },
    {
      "cell_type": "markdown",
      "metadata": {
        "id": "nRBdIt-xR6yw"
      },
      "source": [
        "So, to review what we've done so far in natural language:\n",
        "\n",
        "1. We load source documents\n",
        "2. We split those source documents into smaller chunks (documents)\n",
        "3. We send each of those documents to the `text-embedding-3-small` OpenAI API endpoint\n",
        "4. We store each of the text representations with the vector representations as keys/values in a dictionary"
      ]
    },
    {
      "cell_type": "markdown",
      "metadata": {
        "id": "4-vWANZyR6yw"
      },
      "source": [
        "### Semantic Similarity\n",
        "\n",
        "The next step is to be able to query our `VectorDatabase()` with a `str` and have it return to us vectors and text that is most relevant from our corpus.\n",
        "\n",
        "We're going to use the following process to achieve this in our toy example:\n",
        "\n",
        "1. We need to embed our query with the same `EmbeddingModel()` as we used to construct our `VectorDatabase()`\n",
        "2. We loop through every vector in our `VectorDatabase()` and use a distance measure to compare how related they are\n",
        "3. We return a list of the top `k` closest vectors, with their text representations\n",
        "\n",
        "There's some very heavy optimization that can be done at each of these steps - but let's just focus on the basic pattern in this notebook.\n",
        "\n",
        "> We are using [cosine similarity](https://www.engati.com/glossary/cosine-similarity) as a distance metric in this example - but there are many many distance metrics you could use - like [these](https://flavien-vidal.medium.com/similarity-distances-for-natural-language-processing-16f63cd5ba55)\n",
        "\n",
        "> We are using a rather inefficient way of calculating relative distance between the query vector and all other vectors - there are more advanced approaches that are much more efficient, like [ANN](https://towardsdatascience.com/comprehensive-guide-to-approximate-nearest-neighbors-algorithms-8b94f057d6b6)"
      ]
    },
    {
      "cell_type": "code",
      "execution_count": 20,
      "metadata": {
        "colab": {
          "base_uri": "https://localhost:8080/"
        },
        "id": "76d96uavR6yw",
        "outputId": "bbfccc31-20a2-41c7-c14d-46554a43ed2d"
      },
      "outputs": [
        {
          "data": {
            "text/plain": [
              "[('ordingly.\\nSeventh, when hiring the executive to run your former specialty, be\\ncareful you don’t hire someone weak on purpose.\\nThis sounds silly, but you wouldn’t believe how oaen it happens.\\nThe CEO who used to be a product manager who has a weak\\nproduct management executive. The CEO who used to be in\\nsales who has a weak sales executive. The CEO who used to be\\nin marketing who has a weak marketing executive.\\nI call this the “Michael Eisner Memorial Weak Executive Problem” — aaer the CEO of Disney who had previously been a brilliant TV network executive. When he bought ABC at Disney, it\\npromptly fell to fourth place. His response? “If I had an extra\\ntwo days a week, I could turn around ABC myself.” Well, guess\\nwhat, he didn’t have an extra two days a week.\\nA CEO — or a startup founder — oaen has a hard time letting\\ngo of the function that brought him to the party. The result: you\\nhire someone weak into the executive role for that function so\\nthat you can continue to be “the man” — cons',\n",
              "  0.6533445253783916),\n",
              " ('m. They have areas where they are truly deXcient in judgment or skill set. That’s just life. Almost nobody is brilliant\\nat everything. When hiring and when Hring executives, you\\nmust therefore focus on strength rather than lack of weakness. Everybody has severe weaknesses even if you can’t see\\nthem yet. When managing, it’s oaen useful to micromanage and\\nto provide remedial training around these weaknesses. Doing so\\nmay make the diWerence between an executive succeeding or\\nfailing.\\nFor example, you might have a brilliant engineering executive\\nwho generates excellent team loyalty, has terriXc product judgment and makes the trains run on time. This same executive\\nmay be very poor at relating to the other functions in the company. She may generate far more than her share of cross-functional conYicts, cut herself oW from critical information, and\\nsigniXcantly impede your ability to sell and market eWectively.\\nYour alternatives are:\\n(a) Macro-manage and give her an annual or quarterly object',\n",
              "  0.5393033110933058),\n",
              " ('ed?\\nIn reality — as opposed to Marc’s warped view of reality — it will\\nbe extremely helpful for Marc [if he were actually the CEO,\\nwhich he is not] to meet with the new head of engineering daily\\nwhen she comes on board and review all of her thinking and\\ndecisions. This level of micromanagement will accelerate her\\ntraining and improve her long-term eWectiveness. It will make\\nher seem smarter to the rest of the organization which will build\\ncredibility and conXdence while she comes up to speed. Micromanaging new executives is generally a good idea for a limited\\nperiod of time.\\nHowever, that is not the only time that it makes sense to micro66 The Pmarca Blog Archives\\nmanage executives. It turns out that just about every executive\\nin the world has a few things that are seriously wrong with\\nthem. They have areas where they are truly deXcient in judgment or skill set. That’s just life. Almost nobody is brilliant\\nat everything. When hiring and when Hring executives, you\\nmust therefore focus o',\n",
              "  0.4988025232683325)]"
            ]
          },
          "execution_count": 20,
          "metadata": {},
          "output_type": "execute_result"
        }
      ],
      "source": [
        "top_n_retrieved_docs = vector_db.search_by_text(\"What is the 'Michael Eisner Memorial Weak Executive Problem'?\", k=3)\n",
        "\n",
        "top_n_retrieved_docs"
      ]
    },
    {
      "cell_type": "code",
      "execution_count": 21,
      "metadata": {},
      "outputs": [
        {
          "name": "stdout",
          "output_type": "stream",
          "text": [
            "{'category': 'business', 'sentiment': 'negative'}\n",
            "{'Category': 'business', 'Sentiment': 'neutral'}\n",
            "{'category': 'business', 'sentiment': 'neutral'}\n"
          ]
        }
      ],
      "source": [
        "# Retrieve metadata\n",
        "for text in top_n_retrieved_docs:\n",
        "    print(vector_db.get_metadata(text[0]))"
      ]
    },
    {
      "cell_type": "markdown",
      "metadata": {
        "id": "TehsfIiKR6yw"
      },
      "source": [
        "## Task 4: Prompts\n",
        "\n",
        "In the following section, we'll be looking at the role of prompts - and how they help us to guide our application in the right direction.\n",
        "\n",
        "In this notebook, we're going to rely on the idea of \"zero-shot in-context learning\".\n",
        "\n",
        "This is a lot of words to say: \"We will ask it to perform our desired task in the prompt, and provide no examples.\""
      ]
    },
    {
      "cell_type": "markdown",
      "metadata": {
        "id": "yXpA0UveR6yw"
      },
      "source": [
        "### XYZRolePrompt\n",
        "\n",
        "Before we do that, let's stop and think a bit about how OpenAI's chat models work.\n",
        "\n",
        "We know they have roles - as is indicated in the following API [documentation](https://platform.openai.com/docs/api-reference/chat/create#chat/create-messages)\n",
        "\n",
        "There are three roles, and they function as follows (taken directly from [OpenAI](https://platform.openai.com/docs/guides/gpt/chat-completions-api)):\n",
        "\n",
        "- `{\"role\" : \"system\"}` : The system message helps set the behavior of the assistant. For example, you can modify the personality of the assistant or provide specific instructions about how it should behave throughout the conversation. However note that the system message is optional and the model’s behavior without a system message is likely to be similar to using a generic message such as \"You are a helpful assistant.\"\n",
        "- `{\"role\" : \"user\"}` : The user messages provide requests or comments for the assistant to respond to.\n",
        "- `{\"role\" : \"assistant\"}` : Assistant messages store previous assistant responses, but can also be written by you to give examples of desired behavior.\n",
        "\n",
        "The main idea is this:\n",
        "\n",
        "1. You start with a system message that outlines how the LLM should respond, what kind of behaviours you can expect from it, and more\n",
        "2. Then, you can provide a few examples in the form of \"assistant\"/\"user\" pairs\n",
        "3. Then, you prompt the model with the true \"user\" message.\n",
        "\n",
        "In this example, we'll be forgoing the 2nd step for simplicities sake."
      ]
    },
    {
      "cell_type": "markdown",
      "metadata": {
        "id": "gdZ2KWKSR6yw"
      },
      "source": [
        "#### Utility Functions\n",
        "\n",
        "You'll notice that we're using some utility functions from the `aimakerspace` module - let's take a peek at these and see what they're doing!"
      ]
    },
    {
      "cell_type": "markdown",
      "metadata": {
        "id": "GFbeJDDsR6yw"
      },
      "source": [
        "##### XYZRolePrompt"
      ]
    },
    {
      "cell_type": "markdown",
      "metadata": {
        "id": "5mojJSE3R6yw"
      },
      "source": [
        "Here we have our `system`, `user`, and `assistant` role prompts.\n",
        "\n",
        "Let's take a peek at what they look like:\n",
        "\n",
        "```python\n",
        "class BasePrompt:\n",
        "    def __init__(self, prompt):\n",
        "        \"\"\"\n",
        "        Initializes the BasePrompt object with a prompt template.\n",
        "\n",
        "        :param prompt: A string that can contain placeholders within curly braces\n",
        "        \"\"\"\n",
        "        self.prompt = prompt\n",
        "        self._pattern = re.compile(r\"\\{([^}]+)\\}\")\n",
        "\n",
        "    def format_prompt(self, **kwargs):\n",
        "        \"\"\"\n",
        "        Formats the prompt string using the keyword arguments provided.\n",
        "\n",
        "        :param kwargs: The values to substitute into the prompt string\n",
        "        :return: The formatted prompt string\n",
        "        \"\"\"\n",
        "        matches = self._pattern.findall(self.prompt)\n",
        "        return self.prompt.format(**{match: kwargs.get(match, \"\") for match in matches})\n",
        "\n",
        "    def get_input_variables(self):\n",
        "        \"\"\"\n",
        "        Gets the list of input variable names from the prompt string.\n",
        "\n",
        "        :return: List of input variable names\n",
        "        \"\"\"\n",
        "        return self._pattern.findall(self.prompt)\n",
        "```\n",
        "\n",
        "Then we have our `RolePrompt` which laser focuses us on the role pattern found in most API endpoints for LLMs.\n",
        "\n",
        "```python\n",
        "class RolePrompt(BasePrompt):\n",
        "    def __init__(self, prompt, role: str):\n",
        "        \"\"\"\n",
        "        Initializes the RolePrompt object with a prompt template and a role.\n",
        "\n",
        "        :param prompt: A string that can contain placeholders within curly braces\n",
        "        :param role: The role for the message ('system', 'user', or 'assistant')\n",
        "        \"\"\"\n",
        "        super().__init__(prompt)\n",
        "        self.role = role\n",
        "\n",
        "    def create_message(self, **kwargs):\n",
        "        \"\"\"\n",
        "        Creates a message dictionary with a role and a formatted message.\n",
        "\n",
        "        :param kwargs: The values to substitute into the prompt string\n",
        "        :return: Dictionary containing the role and the formatted message\n",
        "        \"\"\"\n",
        "        return {\"role\": self.role, \"content\": self.format_prompt(**kwargs)}\n",
        "```\n",
        "\n",
        "We'll look at how the `SystemRolePrompt` is constructed to get a better idea of how that extension works:\n",
        "\n",
        "```python\n",
        "class SystemRolePrompt(RolePrompt):\n",
        "    def __init__(self, prompt: str):\n",
        "        super().__init__(prompt, \"system\")\n",
        "```\n",
        "\n",
        "That pattern is repeated for our `UserRolePrompt` and our `AssistantRolePrompt` as well."
      ]
    },
    {
      "cell_type": "markdown",
      "metadata": {
        "id": "D361R6sMR6yw"
      },
      "source": [
        "##### ChatOpenAI"
      ]
    },
    {
      "cell_type": "markdown",
      "metadata": {
        "id": "HJVQ2Pm8R6yw"
      },
      "source": [
        "Next we have our model, which is converted to a format analagous to libraries like LangChain and LlamaIndex.\n",
        "\n",
        "Let's take a peek at how that is constructed:\n",
        "\n",
        "```python\n",
        "class ChatOpenAI:\n",
        "    def __init__(self, model_name: str = \"gpt-3.5-turbo\"):\n",
        "        self.model_name = model_name\n",
        "        self.openai_api_key = os.getenv(\"OPENAI_API_KEY\")\n",
        "        if self.openai_api_key is None:\n",
        "            raise ValueError(\"OPENAI_API_KEY is not set\")\n",
        "\n",
        "    def run(self, messages, text_only: bool = True):\n",
        "        if not isinstance(messages, list):\n",
        "            raise ValueError(\"messages must be a list\")\n",
        "\n",
        "        openai.api_key = self.openai_api_key\n",
        "        response = openai.ChatCompletion.create(\n",
        "            model=self.model_name, messages=messages\n",
        "        )\n",
        "\n",
        "        if text_only:\n",
        "            return response.choices[0].message.content\n",
        "\n",
        "        return response\n",
        "```"
      ]
    },
    {
      "cell_type": "markdown",
      "metadata": {
        "id": "qCU7FfhIR6yw"
      },
      "source": [
        "#### ❓ Question #3:\n",
        "\n",
        "When calling the OpenAI API - are there any ways we can achieve more reproducible outputs? <br>\n",
        "A `seed` parameter (any integer) can be set in the Chat Completion request to receive (mostly) consistent outputs. We need to ensure that all other params (`prompt`, `temperature`, `top_p`, etc.) have the same values across requests. We can keep track of any changes using the `system_fingerprint` field as different outputs may be seen if any system-level changes occur.\n",
        "\n",
        "\n",
        "> NOTE: Check out [this section](https://platform.openai.com/docs/guides/text-generation/) of the OpenAI documentation for the answer!"
      ]
    },
    {
      "cell_type": "markdown",
      "metadata": {
        "id": "c5wcjMLCR6yw"
      },
      "source": [
        "### Creating and Prompting OpenAI's `gpt-3.5-turbo`!\n",
        "\n",
        "Let's tie all these together and use it to prompt `gpt-3.5-turbo`!"
      ]
    },
    {
      "cell_type": "code",
      "execution_count": 22,
      "metadata": {
        "id": "WIfpIot7R6yw"
      },
      "outputs": [],
      "source": [
        "from aimakerspace.openai_utils.prompts import (\n",
        "    UserRolePrompt,\n",
        "    SystemRolePrompt,\n",
        "    AssistantRolePrompt,\n",
        ")\n",
        "\n",
        "from aimakerspace.openai_utils.chatmodel import ChatOpenAI\n",
        "\n",
        "chat_openai = ChatOpenAI()\n",
        "user_prompt_template = \"{content}\"\n",
        "user_role_prompt = UserRolePrompt(user_prompt_template)\n",
        "system_prompt_template = (\n",
        "    \"You are an expert in {expertise}, you always answer in a kind way.\"\n",
        ")\n",
        "system_role_prompt = SystemRolePrompt(system_prompt_template)\n",
        "\n",
        "messages = [\n",
        "    user_role_prompt.create_message(\n",
        "        content=\"What is the best way to write a loop?\"\n",
        "    ),\n",
        "    system_role_prompt.create_message(expertise=\"Python\"),\n",
        "]\n",
        "\n",
        "response = chat_openai.run(messages)"
      ]
    },
    {
      "cell_type": "code",
      "execution_count": 23,
      "metadata": {
        "colab": {
          "base_uri": "https://localhost:8080/"
        },
        "id": "dHo7lssNR6yw",
        "outputId": "1d3823fa-bb6b-45f6-ddba-b41686388324"
      },
      "outputs": [
        {
          "name": "stdout",
          "output_type": "stream",
          "text": [
            "The best way to write a loop will depend on the specific task you are trying to accomplish. In general, it's important to consider the type of loop that is most appropriate for your situation. \n",
            "\n",
            "For example, if you know how many times you want the loop to run, a `for` loop may be the best choice:\n",
            "\n",
            "```python\n",
            "for i in range(5):\n",
            "    # do something\n",
            "```\n",
            "\n",
            "If you need the loop to run based on a condition, a `while` loop might be more appropriate:\n",
            "\n",
            "```python\n",
            "while condition:\n",
            "    # do something\n",
            "```\n",
            "\n",
            "It's also important to make sure your loop is clear and readable. Use meaningful variable names and comments to explain the purpose of the loop. Additionally, consider efficiency and avoid unnecessary code within the loop.\n",
            "\n",
            "Overall, the best way to write a loop is to choose the right type of loop for your task, keep the code clear and organized, and consider efficiency and readability.\n"
          ]
        }
      ],
      "source": [
        "print(response)"
      ]
    },
    {
      "cell_type": "markdown",
      "metadata": {
        "id": "r2nxxhB2R6yy"
      },
      "source": [
        "## Task 5: Retrieval Augmented Generation\n",
        "\n",
        "Now we can create a RAG prompt - which will help our system behave in a way that makes sense!\n",
        "\n",
        "There is much you could do here, many tweaks and improvements to be made!"
      ]
    },
    {
      "cell_type": "code",
      "execution_count": 27,
      "metadata": {
        "id": "D1hamzGaR6yy"
      },
      "outputs": [],
      "source": [
        "RAG_PROMPT_TEMPLATE = \"\"\" \\\n",
        "Use the provided context and related metadata to answer the user's query.\n",
        "\n",
        "You may not answer the user's query unless there is specific context in the following text.\n",
        "\n",
        "If you do not know the answer, or cannot answer, please respond with \"I don't know\".\n",
        "\"\"\"\n",
        "\n",
        "rag_prompt = SystemRolePrompt(RAG_PROMPT_TEMPLATE)\n",
        "\n",
        "COT_PROMPT_TEMPLATE = \"\"\" \\\n",
        "    When responding, think through your response step by step. Make sure to provide a clear and concise answer to the user's query.\n",
        "\"\"\"\n",
        "\n",
        "cot_prompt = SystemRolePrompt(COT_PROMPT_TEMPLATE)\n",
        "\n",
        "USER_PROMPT_TEMPLATE = \"\"\" \\\n",
        "Context:\n",
        "{context}\n",
        "\n",
        "Metadata:\n",
        "{metadata}\n",
        "\n",
        "User Query:\n",
        "{user_query}\n",
        "\"\"\"\n",
        "\n",
        "\n",
        "user_prompt = UserRolePrompt(USER_PROMPT_TEMPLATE)\n",
        "\n",
        "class RetrievalAugmentedQAPipeline:\n",
        "    def __init__(self, llm: ChatOpenAI(), vector_db_retriever: VectorDatabase) -> None:\n",
        "        self.llm = llm\n",
        "        self.vector_db_retriever = vector_db_retriever\n",
        "\n",
        "    def run_pipeline(self, user_query: str) -> str:\n",
        "        context_list = self.vector_db_retriever.search_by_text(user_query, k=4)\n",
        "\n",
        "        context_prompt = \"\"\n",
        "        metadata_prompt = []\n",
        "        for context in context_list:\n",
        "            context_prompt += context[0] + \"\\n\"\n",
        "            metadata_prompt.append(vector_db.get_metadata(text[0]))\n",
        "\n",
        "        formatted_system_prompt = rag_prompt.create_message()\n",
        "        \n",
        "        formatted_cot_prompt = cot_prompt.create_message()\n",
        "\n",
        "        formatted_user_prompt = user_prompt.create_message(user_query=user_query, context=context_prompt, metadata=metadata_prompt)\n",
        "\n",
        "        return {\"response\" : self.llm.run([formatted_user_prompt, formatted_system_prompt, formatted_cot_prompt], metadata), \"context\" : context_list, \"metadata\" : metadata_prompt}"
      ]
    },
    {
      "cell_type": "markdown",
      "metadata": {
        "id": "zZIJI19uR6yz"
      },
      "source": [
        "#### ❓ Question #4:\n",
        "\n",
        "What prompting strategies could you use to make the LLM have a more thoughtful, detailed response?\n",
        "\n",
        "What is that strategy called? <br>\n",
        "Chain-Of-Thought (COT) Prompting, Use instruction (system prompt), example (user/ assistant qa example), questions, context (RAG), input data (final user prompt) prompting structure.\n",
        "\n",
        "> NOTE: You can look through the Week 1 Day 2 material for an answer to this question!"
      ]
    },
    {
      "cell_type": "code",
      "execution_count": 28,
      "metadata": {
        "id": "kqbE9fZ6R6yz"
      },
      "outputs": [],
      "source": [
        "retrieval_augmented_qa_pipeline = RetrievalAugmentedQAPipeline(\n",
        "    vector_db_retriever=vector_db,\n",
        "    llm=chat_openai\n",
        ")"
      ]
    },
    {
      "cell_type": "code",
      "execution_count": 29,
      "metadata": {
        "colab": {
          "base_uri": "https://localhost:8080/"
        },
        "id": "jAGhaCGOR6yz",
        "outputId": "e4fb3a1b-d2bc-4e18-ec31-dc0adf767163"
      },
      "outputs": [
        {
          "data": {
            "text/plain": [
              "{'response': 'The \"Michael Eisner Memorial Weak Executive Problem\" refers to a situation where a CEO or startup founder hires a weak executive for a specific function that they previously excelled in, in order to retain control or maintain their position of authority in that area. This term is derived from the example of Michael Eisner, the former CEO of Disney, who struggled with turning around ABC, a network he acquired, and attributed the difficulties to not having enough time to focus on it. This issue highlights the challenge of letting go of functions that brought someone success and the tendency to hire weaker executives in those areas to maintain control, ultimately leading to potential performance issues.',\n",
              " 'context': [('ordingly.\\nSeventh, when hiring the executive to run your former specialty, be\\ncareful you don’t hire someone weak on purpose.\\nThis sounds silly, but you wouldn’t believe how oaen it happens.\\nThe CEO who used to be a product manager who has a weak\\nproduct management executive. The CEO who used to be in\\nsales who has a weak sales executive. The CEO who used to be\\nin marketing who has a weak marketing executive.\\nI call this the “Michael Eisner Memorial Weak Executive Problem” — aaer the CEO of Disney who had previously been a brilliant TV network executive. When he bought ABC at Disney, it\\npromptly fell to fourth place. His response? “If I had an extra\\ntwo days a week, I could turn around ABC myself.” Well, guess\\nwhat, he didn’t have an extra two days a week.\\nA CEO — or a startup founder — oaen has a hard time letting\\ngo of the function that brought him to the party. The result: you\\nhire someone weak into the executive role for that function so\\nthat you can continue to be “the man” — cons',\n",
              "   0.6533445253783916),\n",
              "  ('m. They have areas where they are truly deXcient in judgment or skill set. That’s just life. Almost nobody is brilliant\\nat everything. When hiring and when Hring executives, you\\nmust therefore focus on strength rather than lack of weakness. Everybody has severe weaknesses even if you can’t see\\nthem yet. When managing, it’s oaen useful to micromanage and\\nto provide remedial training around these weaknesses. Doing so\\nmay make the diWerence between an executive succeeding or\\nfailing.\\nFor example, you might have a brilliant engineering executive\\nwho generates excellent team loyalty, has terriXc product judgment and makes the trains run on time. This same executive\\nmay be very poor at relating to the other functions in the company. She may generate far more than her share of cross-functional conYicts, cut herself oW from critical information, and\\nsigniXcantly impede your ability to sell and market eWectively.\\nYour alternatives are:\\n(a) Macro-manage and give her an annual or quarterly object',\n",
              "   0.5393033110933058),\n",
              "  ('ed?\\nIn reality — as opposed to Marc’s warped view of reality — it will\\nbe extremely helpful for Marc [if he were actually the CEO,\\nwhich he is not] to meet with the new head of engineering daily\\nwhen she comes on board and review all of her thinking and\\ndecisions. This level of micromanagement will accelerate her\\ntraining and improve her long-term eWectiveness. It will make\\nher seem smarter to the rest of the organization which will build\\ncredibility and conXdence while she comes up to speed. Micromanaging new executives is generally a good idea for a limited\\nperiod of time.\\nHowever, that is not the only time that it makes sense to micro66 The Pmarca Blog Archives\\nmanage executives. It turns out that just about every executive\\nin the world has a few things that are seriously wrong with\\nthem. They have areas where they are truly deXcient in judgment or skill set. That’s just life. Almost nobody is brilliant\\nat everything. When hiring and when Hring executives, you\\nmust therefore focus o',\n",
              "   0.4988025232683325),\n",
              "  ('nYicts, cut herself oW from critical information, and\\nsigniXcantly impede your ability to sell and market eWectively.\\nYour alternatives are:\\n(a) Macro-manage and give her an annual or quarterly objective\\nto Xx it, or…\\n(b) Intensively micromanage her interactions until she learns\\nthe fundamental interpersonal skills required to be an eWective\\nexecutive.\\nI am arguing that doing (a) will likely result in weak performance. The reason is that she very likely has no idea how to be\\neWective with her peers. If somebody is an executive, it’s very\\nlikely that somewhere along the line somebody gave her feedback — perhaps abstractly — about all of her weaknesses. Yet\\nthe weakness remains. As a result, executives generally require\\nmore hands-on management than lower level employees to\\nimprove weak areas.\\nSo, micromanagement is like Xne wine. A little at the right times\\nwill really enhance things; too much all the time and you’ll end\\nup in rehab.\\nPart 8: Hiring, managing, promoting, and Dring execut',\n",
              "   0.48819483427959914)],\n",
              " 'metadata': [{'Category': 'business', 'Sentiment': 'neutral'},\n",
              "  {'Category': 'business', 'Sentiment': 'neutral'},\n",
              "  {'Category': 'business', 'Sentiment': 'neutral'},\n",
              "  {'Category': 'business', 'Sentiment': 'neutral'}]}"
            ]
          },
          "execution_count": 29,
          "metadata": {},
          "output_type": "execute_result"
        }
      ],
      "source": [
        "retrieval_augmented_qa_pipeline.run_pipeline(\"What is the 'Michael Eisner Memorial Weak Executive Problem'?\")"
      ]
    },
    {
      "cell_type": "markdown",
      "metadata": {},
      "source": [
        "### 🏗️ Activity #1:\n",
        "\n",
        "Enhance your RAG application in some way! \n",
        "\n",
        "Suggestions are: \n",
        "\n",
        "- Allow it to work with PDF files\n",
        "- Implement a new distance metric\n",
        "- Add metadata support to the vector database - `implemented`\n",
        "\n",
        "While these are suggestions, you should feel free to make whatever augmentations you desire! \n",
        "\n",
        "> NOTE: These additions might require you to work within the `aimakerspace` library - that's expected!"
      ]
    },
    {
      "cell_type": "markdown",
      "metadata": {
        "id": "8QqpYXj2R6yz"
      },
      "source": [
        "## Task 6: Visibility Tooling\n",
        "\n",
        "This is great, but what if we wanted to add some visibility to our pipeline?\n",
        "\n",
        "Let's use Weights and Biases as a visibility tool!\n",
        "\n",
        "The first thing we'll need to do is create a Weights and Biases account and get an API key.\n",
        "\n",
        "You can follow the process outlined [here](https://docs.wandb.ai/quickstart) to do exactly that!"
      ]
    },
    {
      "cell_type": "markdown",
      "metadata": {
        "id": "2nST5OrAR6yz"
      },
      "source": [
        "Now we can get the Weights and Biases dependency and add our key to our env. to begin!"
      ]
    },
    {
      "cell_type": "code",
      "execution_count": 30,
      "metadata": {
        "colab": {
          "base_uri": "https://localhost:8080/"
        },
        "id": "y54bofQQR6yz",
        "outputId": "6df38604-c2e0-4870-d5de-db165ea830ba"
      },
      "outputs": [],
      "source": [
        "# !pip install -qU wandb"
      ]
    },
    {
      "cell_type": "code",
      "execution_count": 31,
      "metadata": {
        "colab": {
          "base_uri": "https://localhost:8080/"
        },
        "id": "SzunMw9_R6yz",
        "outputId": "f2506283-6b0d-4a1b-cb5a-65839c6445b1"
      },
      "outputs": [],
      "source": [
        "wandb_key = getpass(\"Weights and Biases API Key: \")\n",
        "os.environ[\"WANDB_API_KEY\"] = wandb_key"
      ]
    },
    {
      "cell_type": "code",
      "execution_count": 32,
      "metadata": {},
      "outputs": [],
      "source": [
        "# Access the WANDB_API_KEY\n",
        "wandb_key = os.getenv(\"WANDB_API_KEY\")\n",
        "\n",
        "# Set the WANDB_API_KEY environment variable\n",
        "os.environ[\"WANDB_API_KEY\"] = wandb_key"
      ]
    },
    {
      "cell_type": "code",
      "execution_count": 33,
      "metadata": {
        "colab": {
          "base_uri": "https://localhost:8080/",
          "height": 143
        },
        "id": "Iv1f27ebR6yz",
        "outputId": "34dd085e-0468-4657-d105-71ecc4b633fe"
      },
      "outputs": [
        {
          "name": "stderr",
          "output_type": "stream",
          "text": [
            "Failed to detect the name of this notebook, you can set it manually with the WANDB_NOTEBOOK_NAME environment variable to enable code saving.\n",
            "\u001b[34m\u001b[1mwandb\u001b[0m: Currently logged in as: \u001b[33mnisargvp\u001b[0m. Use \u001b[1m`wandb login --relogin`\u001b[0m to force relogin\n"
          ]
        },
        {
          "data": {
            "text/html": [
              "wandb version 0.17.1 is available!  To upgrade, please run:\n",
              " $ pip install wandb --upgrade"
            ],
            "text/plain": [
              "<IPython.core.display.HTML object>"
            ]
          },
          "metadata": {},
          "output_type": "display_data"
        },
        {
          "data": {
            "text/html": [
              "Tracking run with wandb version 0.17.0"
            ],
            "text/plain": [
              "<IPython.core.display.HTML object>"
            ]
          },
          "metadata": {},
          "output_type": "display_data"
        },
        {
          "data": {
            "text/html": [
              "Run data is saved locally in <code>/mnt/c/Users/nisar/aie3/Week 2/Day 1/wandb/run-20240610_074255-cawan13n</code>"
            ],
            "text/plain": [
              "<IPython.core.display.HTML object>"
            ]
          },
          "metadata": {},
          "output_type": "display_data"
        },
        {
          "data": {
            "text/html": [
              "Syncing run <strong><a href='https://wandb.ai/nisargvp/Visibility%20Example%20-%20AIE3/runs/cawan13n' target=\"_blank\">cool-forest-3</a></strong> to <a href='https://wandb.ai/nisargvp/Visibility%20Example%20-%20AIE3' target=\"_blank\">Weights & Biases</a> (<a href='https://wandb.me/run' target=\"_blank\">docs</a>)<br/>"
            ],
            "text/plain": [
              "<IPython.core.display.HTML object>"
            ]
          },
          "metadata": {},
          "output_type": "display_data"
        },
        {
          "data": {
            "text/html": [
              " View project at <a href='https://wandb.ai/nisargvp/Visibility%20Example%20-%20AIE3' target=\"_blank\">https://wandb.ai/nisargvp/Visibility%20Example%20-%20AIE3</a>"
            ],
            "text/plain": [
              "<IPython.core.display.HTML object>"
            ]
          },
          "metadata": {},
          "output_type": "display_data"
        },
        {
          "data": {
            "text/html": [
              " View run at <a href='https://wandb.ai/nisargvp/Visibility%20Example%20-%20AIE3/runs/cawan13n' target=\"_blank\">https://wandb.ai/nisargvp/Visibility%20Example%20-%20AIE3/runs/cawan13n</a>"
            ],
            "text/plain": [
              "<IPython.core.display.HTML object>"
            ]
          },
          "metadata": {},
          "output_type": "display_data"
        },
        {
          "data": {
            "text/html": [
              "<button onClick=\"this.nextSibling.style.display='block';this.style.display='none';\">Display W&B run</button><iframe src='https://wandb.ai/nisargvp/Visibility%20Example%20-%20AIE3/runs/cawan13n?jupyter=true' style='border:none;width:100%;height:420px;display:none;'></iframe>"
            ],
            "text/plain": [
              "<wandb.sdk.wandb_run.Run at 0x7f7f64451210>"
            ]
          },
          "execution_count": 33,
          "metadata": {},
          "output_type": "execute_result"
        }
      ],
      "source": [
        "import wandb\n",
        "\n",
        "wandb.init(project=\"Visibility Example - AIE3\")"
      ]
    },
    {
      "cell_type": "markdown",
      "metadata": {
        "id": "iezOc48XR6yz"
      },
      "source": [
        "Now we can integrate Weights and Biases into our `RetrievalAugmentedQAPipeline`.\n",
        "\n",
        "```python\n",
        "if self.wandb_project:\n",
        "            root_span = Trace(\n",
        "                name=\"root_span\",\n",
        "                kind=\"llm\",\n",
        "                status_code=status,\n",
        "                status_message=status_message,\n",
        "                start_time_ms=start_time,\n",
        "                end_time_ms=end_time,\n",
        "                metadata={\n",
        "                    \"token_usage\" : token_usage\n",
        "                },\n",
        "                inputs= {\"system_prompt\" : formatted_system_prompt, \"user_prompt\" : formatted_user_prompt},\n",
        "                outputs= {\"response\" : response_text}\n",
        "            )\n",
        "\n",
        "            root_span.log(name=\"openai_trace\")\n",
        "```\n",
        "\n",
        "The main things to consider here are how to populate the various fields to make sure we're tracking useful information.\n",
        "\n",
        "We'll use the `text_only` flag to ensure we can get detailed information about our LLM call!\n",
        "\n",
        "You can check out all the parameters for Weights and Biases `Trace` [here](https://github.com/wandb/wandb/blob/653015a014281f45770aaf43627f64d9c4f04a32/wandb/sdk/data_types/trace_tree.py#L166)"
      ]
    },
    {
      "cell_type": "code",
      "execution_count": 35,
      "metadata": {
        "id": "fqe4D27QR6yz"
      },
      "outputs": [],
      "source": [
        "import datetime\n",
        "from wandb.sdk.data_types.trace_tree import Trace\n",
        "\n",
        "class RetrievalAugmentedGenerationPipeline:\n",
        "    def __init__(self, llm: ChatOpenAI(), vector_db_retriever: VectorDatabase, wandb_project = None) -> None:\n",
        "        self.llm = llm\n",
        "        self.vector_db_retriever = vector_db_retriever\n",
        "        self.wandb_project = wandb_project\n",
        "\n",
        "    def run_pipeline(self, user_query: str) -> str:\n",
        "        context_list = self.vector_db_retriever.search_by_text(user_query, k=4)\n",
        "\n",
        "        context_prompt = \"\"\n",
        "        metadata_prompt = []\n",
        "        for context in context_list:\n",
        "            context_prompt += context[0] + \"\\n\"\n",
        "            metadata_prompt.append(vector_db.get_metadata(text[0]))\n",
        "\n",
        "        formatted_system_prompt = rag_prompt.create_message()\n",
        "        \n",
        "        formatted_cot_prompt = cot_prompt.create_message()\n",
        "\n",
        "        formatted_user_prompt = user_prompt.create_message(user_query=user_query, context=context_prompt, metadata=metadata_prompt)\n",
        "\n",
        "\n",
        "        start_time = datetime.datetime.now().timestamp() * 1000\n",
        "\n",
        "        try:\n",
        "            openai_response = self.llm.run([formatted_system_prompt, formatted_user_prompt, formatted_cot_prompt], text_only=False)\n",
        "            end_time = datetime.datetime.now().timestamp() * 1000\n",
        "            status = \"success\"\n",
        "            status_message = (None, )\n",
        "            response_text = openai_response.choices[0].message.content\n",
        "            token_usage = dict(openai_response.usage)\n",
        "            model = openai_response.model\n",
        "\n",
        "        except Exception as e:\n",
        "            end_time = datetime.datetime.now().timestamp() * 1000\n",
        "            status = \"error\"\n",
        "            status_message = str(e)\n",
        "            response_text = \"\"\n",
        "            token_usage = {}\n",
        "            model = \"\"\n",
        "\n",
        "        if self.wandb_project:\n",
        "            root_span = Trace(\n",
        "                name=\"root_span\",\n",
        "                kind=\"llm\",\n",
        "                status_code=status,\n",
        "                status_message=status_message,\n",
        "                start_time_ms=start_time,\n",
        "                end_time_ms=end_time,\n",
        "                metadata={\n",
        "                    \"token_usage\" : token_usage,\n",
        "                    \"model_name\" : model\n",
        "                },\n",
        "                inputs= {\"system_prompt\" : formatted_system_prompt, \"user_prompt\" : formatted_user_prompt},\n",
        "                outputs= {\"response\" : response_text}\n",
        "            )\n",
        "\n",
        "            root_span.log(name=\"openai_trace\")\n",
        "\n",
        "        return {\"response\" : self.llm.run([formatted_system_prompt, formatted_user_prompt, formatted_cot_prompt]), \"context\" : context_list, \"metadata\" : metadata_prompt} if response_text else \"We ran into an error. Please try again later. Full Error Message: \" + status_message"
      ]
    },
    {
      "cell_type": "code",
      "execution_count": 36,
      "metadata": {
        "id": "aa1_0P1YR6yz"
      },
      "outputs": [],
      "source": [
        "retrieval_augmented_qa_pipeline = RetrievalAugmentedGenerationPipeline(\n",
        "    vector_db_retriever=vector_db,\n",
        "    llm=chat_openai,\n",
        "    wandb_project=\"LLM Visibility Example\"\n",
        ")"
      ]
    },
    {
      "cell_type": "code",
      "execution_count": 37,
      "metadata": {
        "colab": {
          "base_uri": "https://localhost:8080/"
        },
        "id": "OKSpyeg-R6yz",
        "outputId": "0d6358c9-4775-4734-f49d-851814de37c5"
      },
      "outputs": [
        {
          "data": {
            "text/plain": [
              "{'response': \"I don't know.\",\n",
              " 'context': [(\"ions combine in a whirlwind\\nof violence and battle.\\nTop 10 science Dction novelists of the '00s ... so far (June 2007) 177\\nAsher is blogging as well!\\nChris Moriarty\\nGibson meets Heinlein (can you tell I was a Heinlein fan growing up?) in a melange of science Xction themes, most particularly artiXcial intelligence, Xltered through a distinctly female\\npoint of view. A rapidly developing talent worth reading, and\\nwatching for future advances.\\nRead Spin State and then read Spin Control.\\nPeter Watts\\nWatts’ Xah novel, Blindsight, has put him on the map — a new\\ntale of alien contact, as conducted by a team of entitites from a\\nfuture Earth that will send a chill down your spine without even\\ngetting to the alien part.\\nDavid Marusek\\nMy last and Xnal entry of the top 10 is the one I am least certain\\nabout. Marusek is oW the charts in terms of creativity and inventiveness — in his debut novel, Counting Heads, he extrapolates\\nwith incredible verve and detail an Earth circa 2134 that is a\\nnear-utopi\",\n",
              "   0.19844522943515),\n",
              "  (\"e Xction\\nwith a distinctive horror overlay. Not for the squeamish, but\\nhighly inventive.\\nAsher’s primary work is the Polity series — Gridlinked, The\\nLine of Polity, Brass Man, and Polity Agent. The extended\\nstory of an enigmatic agent for the all-powerful artiXcial intelligences who rule the whole of human space, the Polity, these\\nnovels blend Ian Fleming with large-scale military combat,\\nadvanced theoretical xenobiology, nanotechnology gone badly\\nwrong, and war drones with bad attitudes. Most deXnitely entertaining.\\nFollow those up with The Skinner and The Voyage of the Sable\\nKeech, and then the delectable standalone novella Prador\\nMoon. One of the most distinctively imagined “bad bug” alien\\nraces, one of the most creative and lethal new worlds, and a historical scandal of horriXc proportions combine in a whirlwind\\nof violence and battle.\\nTop 10 science Dction novelists of the '00s ... so far (June 2007) 177\\nAsher is blogging as well!\\nChris Moriarty\\nGibson meets Heinlein (can you tell\",\n",
              "   0.1984169900895555),\n",
              "  (' Tendency\\nThe brain of man is programmed with a tendency to quickly\\nremove doubt by reaching some decision.\\nIt is easy to see how evolution would make animals, over the eons,\\ndria toward such quick elimination of doubt. Aaer all, the one\\nthing that is surely counterproductive for a prey animal that is\\nthreatened by a predator is to take a long time in deciding what to\\ndo…\\nSo pronounced is the tendency in man to quickly remove doubt\\nby reaching some decision that behavior to counter the tendency is\\nrequired from judges and jurors. Here, delay before decision making is forced. And one is required to so comport himself, prior to\\nconclusion time, so that he is wearing a “mask” of objectivity. And\\nthe “mask” works to help real objectivity along, as we shall see when\\nwe next consider man’s Inconsistency-Avoidance Tendency…\\nWhat triggers Doubt-Avoidance Tendency? Well, an unthreatened\\nman, thinking of nothing in particular, is not being prompted to\\nremove doubt through rushing to some decisio',\n",
              "   0.19141895712331658),\n",
              "  ('gher intensity, and bolder than many\\n(but not all!) of their predecessors — and in my view revitalizing\\nthe genre at a time when more new technologies that will radically reshape all our lives are incubating and percolating than\\never before.\\nSo, taking nothing away from authors like David Brin who have\\nlong been established and continue to produce top-notch work,\\nhere are my nominations for the top 10 new science Xction novelists of — more or less — the decade, plus one bonus.\\nAnd, they’re not all British.\\nCharles Stross\\nStross, in my opinion, is Xrst among equals — the single best\\nemerging talent with several outstanding novels in various styles\\nunder his belt and hopefully many more to come.\\n“One of us” in the sense that his career includes a stint as —\\nnot kidding — Linux columnist for Computer Shopper magazine,\\nStross is equally adept at both near-future and radically-extrap-\\nolated timeframes, and both hyper-serious and humorous\\nmoods.\\nGlasshouse is Stross’s latest book and perhap',\n",
              "   0.18858787677272884)],\n",
              " 'metadata': [{'Category': 'business', 'Sentiment': 'neutral'},\n",
              "  {'Category': 'business', 'Sentiment': 'neutral'},\n",
              "  {'Category': 'business', 'Sentiment': 'neutral'},\n",
              "  {'Category': 'business', 'Sentiment': 'neutral'}]}"
            ]
          },
          "execution_count": 37,
          "metadata": {},
          "output_type": "execute_result"
        }
      ],
      "source": [
        "retrieval_augmented_qa_pipeline.run_pipeline(\"Who is Batman?\")"
      ]
    },
    {
      "cell_type": "code",
      "execution_count": 38,
      "metadata": {
        "colab": {
          "base_uri": "https://localhost:8080/"
        },
        "id": "SbB0xcCRR6yz",
        "outputId": "7ba2fc10-abbe-40ec-eca8-22e1116300a5"
      },
      "outputs": [
        {
          "data": {
            "text/plain": [
              "{'response': 'Based on the context provided, here are some tips for being an effective CEO:\\n\\n1. Focus on promoting and empowering strong, ambitious leaders within your organization to drive success.\\n2. Identify and prioritize the most critical objectives that your company needs to excel in, and assign your best personnel to lead those efforts.\\n3. Strive for transparency and clear communication within your organization to motivate and retain top talent.\\n4. Be aware of the impact of incentives on employee motivation and decision-making, especially when it comes to stock options and executive hires.\\n5. Avoid micromanagement and find a balance in your leadership approach to avoid potential burnout or issues.\\n6. When hiring executives, consider the criteria that truly matter for the roles you are filling and establish a robust hiring process.\\n\\nThese tips can contribute to your effectiveness as a CEO, alongside other essential factors in leading a successful company.',\n",
              " 'context': [(' management. Nuke as many of them as you can.\\nThen develop a list of your top 20 or 30 up and comers —\\nstrong, sharp, aggressive, ambitious director- or VP-level managers who want to succeed and want your company to succeed.\\nAnd promote them, and put them in sole charge of clearly identiXed teams and missions. (And give them big ol’ fresh option\\npackages.)\\nAs CEO, you should only have at most one executive between\\nyou and these 20 or 30 up and comers once you are done promoting them and putting them in charge of their teams and\\nmissions.\\nIf you don’t know who those top 20 or 30 up and comers are, if\\nyou don’t promote them, if you don’t put them clearly in charge\\nof the things that matter, or if you have more than one layer of\\n84 The Pmarca Blog Archives\\nmanagement between you and them when you’re done, you’re\\nprobably doomed.\\nStep 7: Figure out the single most important thing your company has\\nto win at, and put your single best person in charge of winning at it.\\n‘NuW said.\\nStep 8: Look',\n",
              "   0.5776333316600099),\n",
              "  ('up, because\\nnew things that are growing really fast in growth markets are\\nalways expensive — whether private or public — especially\\ncompared to the PE multiple of a big company in turnaround.\\nSo here’s hoping you did a great job at Step 5.\\nStep 9: In six months, relaunch the company with a single, crisp,\\ncoherent message and strategy.\\nThen go dark again and go right back to work.\\nOf course, there’s more to being the CEO of a turnaround than\\nthese 9 steps. There are a thousand other things you’re going to\\nhave to do. But these are the 9 most important.\\nTo quote the great Tommy Lasorda: “This fucking job ain’t that\\nfucking easy.”\\nAppendix for media companies only:\\nStep 10: For God’s sake, stop suing your customers.\\nPart 1: Turnaround! 85\\nPart 2: Retaining great people\\nThis post is about retaining great people, particularly at big companies in industries like technology, where stock options matter\\nand where people can relatively easily move from one company\\nto another.\\nActually, I lied. T',\n",
              "   0.564684663403876),\n",
              "  ('sure can be a very\\neWective form of incentive. This is greatly enabled and abetted\\nby transparency. People hate to be embarrassed in front of their\\npeer group, so if it’s crystal clear who’s performing well and who\\nisn’t, poor performers will be highly motivated to improve —\\nand if they’re not, that’s good to know, since obviously then you\\nreally need to Xre them.\\nFinally, any entrepreneur should be highly attuned to incentives\\nwhen hiring outside executives, especially a CEO. Hire a CEO\\nand give her a large stock-option grant with four-year vesting,\\nand you can guarantee she will sell the company in year four.\\nGive her a stock-option grant with accelerated vesting on\\nchange of control and she will sell the company sooner than\\nthat. Founders can get tripped up on this because they naturally\\nhave an emotional incentive to see the company succeed that\\nhired executives oaen do not share.\\nAnd of course, never get caught between a venture capitalist and\\nher incentives.\\nTwo: Liking/Loving Te',\n",
              "   0.5575752491413263),\n",
              "  (\"s.\\nSo, micromanagement is like Xne wine. A little at the right times\\nwill really enhance things; too much all the time and you’ll end\\nup in rehab.\\nPart 8: Hiring, managing, promoting, and Dring executives 67\\nPart 9: How to hire a professional\\nCEO\\nDon’t.\\nIf you don’t have anyone on your founding team who is capable\\nof being CEO, then sell your company — now.\\nHow to hire the best people you've\\never worked with\\nThere are many aspects to hiring great people, and various people smarter than me have written extensively on the topic.\\nSo I’m not going to try to be comprehensive.\\nBut I am going to relay some lessons learned through hard\\nexperience on how to hire the best people you’ve ever worked\\nwith — particularly for a startup.\\nI’m going to cover two key areas in this post:\\n• Criteria: what to value when evaluating candidates.\\n• And process: how to actually run the hiring process, and if\\nnecessary the aaermath of making a mistake.\\nCriteria 7rst\\nLots of people will tell you to hire for intell\",\n",
              "   0.5496211653463743)],\n",
              " 'metadata': [{'Category': 'business', 'Sentiment': 'neutral'},\n",
              "  {'Category': 'business', 'Sentiment': 'neutral'},\n",
              "  {'Category': 'business', 'Sentiment': 'neutral'},\n",
              "  {'Category': 'business', 'Sentiment': 'neutral'}]}"
            ]
          },
          "execution_count": 38,
          "metadata": {},
          "output_type": "execute_result"
        }
      ],
      "source": [
        "retrieval_augmented_qa_pipeline.run_pipeline(\"What are some tips for being an effective CEO?\")"
      ]
    },
    {
      "cell_type": "markdown",
      "metadata": {
        "id": "QAkIW2qRR6yz"
      },
      "source": [
        "Navigate to the Weights and Biases \"run\" link to see how your LLM is performing!\n",
        "\n",
        "```\n",
        "View run at https://wandb.ai/nisargvp/Visibility%20Example%20-%20AIE3/runs/cawan13n\n",
        "```"
      ]
    },
    {
      "cell_type": "markdown",
      "metadata": {
        "id": "sInZ32BoR6yz"
      },
      "source": [
        "#### ❓ Question #5:\n",
        "\n",
        "What is the `model_name` from the WandB `root_span` trace? `gpt-3.5-turbo-0125`"
      ]
    },
    {
      "cell_type": "markdown",
      "metadata": {
        "id": "Of8wJGalR6yz"
      },
      "source": [
        "## Task 7: RAG Evaluation Using GPT-4\n",
        "\n"
      ]
    },
    {
      "cell_type": "code",
      "execution_count": 39,
      "metadata": {
        "colab": {
          "base_uri": "https://localhost:8080/",
          "height": 330
        },
        "id": "PRNzzMurR6yz",
        "outputId": "0dcaf542-530c-480d-9dc6-a2931e8557e2"
      },
      "outputs": [
        {
          "name": "stdout",
          "output_type": "stream",
          "text": [
            "In the provided text, there are several tips for being an effective CEO:\n",
            "\n",
            "1. Identify and nurture a group of top up-and-coming managers and leaders in your company, promoting them to key positions.\n",
            "2. Focus on putting the right people in charge of critical tasks and teams.\n",
            "3. Ensure there is direct communication and minimal layers between you as CEO and these key managers once in place.\n",
            "4. Determine the most crucial aspect your company needs to excel in and assign your best person to lead that effort.\n",
            "5. Be aware of the importance of stock options and incentives in retaining and motivating employees.\n",
            "6. Avoid micromanaging excessively and hire a professional CEO if needed.\n",
            "\n",
            "By following these guidelines and adapting them to suit your specific company and circumstances, you can work towards becoming a more effective CEO.\n"
          ]
        },
        {
          "data": {
            "text/plain": [
              "'{\"clarity\" : \"7\", \"faithfulness\" : \"6\", \"correctness\" : \"8\"}'"
            ]
          },
          "execution_count": 39,
          "metadata": {},
          "output_type": "execute_result"
        }
      ],
      "source": [
        "query = \"What are some tips for being an effective CEO?\"\n",
        "\n",
        "response = retrieval_augmented_qa_pipeline.run_pipeline(query)\n",
        "\n",
        "print(response[\"response\"])\n",
        "\n",
        "evaluator_system_template = \"\"\"You are an expert in analyzing the quality of a response.\n",
        "\n",
        "You should be hyper-critical.\n",
        "\n",
        "Provide scores (out of 10) for the following attributes:\n",
        "\n",
        "1. Clarity - how clear is the response\n",
        "2. Faithfulness - how related to the original query is the response and the provided context\n",
        "3. Correctness - was the response correct?\n",
        "\n",
        "Please take your time, and think through each item step-by-step, when you are done - please provide your response in the following JSON format:\n",
        "\n",
        "{\"clarity\" : \"score_out_of_10\", \"faithfulness\" : \"score_out_of_10\", \"correctness\" : \"score_out_of_10\"}\"\"\"\n",
        "\n",
        "evaluation_template = \"\"\"Query: {input}\n",
        "Context: {context}\n",
        "Response: {response}\"\"\"\n",
        "\n",
        "try:\n",
        "    chat_openai = ChatOpenAI(model_name=\"gpt-4-turbo\")\n",
        "except:\n",
        "    chat_openai = ChatOpenAI()\n",
        "\n",
        "evaluator_system_prompt = SystemRolePrompt(evaluator_system_template)\n",
        "evaluation_prompt = UserRolePrompt(evaluation_template)\n",
        "\n",
        "messages = [\n",
        "    evaluator_system_prompt.create_message(format=False),\n",
        "    evaluation_prompt.create_message(\n",
        "        input=query,\n",
        "        context=\"\\n\".join([context[0] for context in response[\"context\"]]),\n",
        "        response=response[\"response\"]\n",
        "    ),\n",
        "]\n",
        "\n",
        "chat_openai.run(messages, response_format={\"type\" : \"json_object\"})"
      ]
    },
    {
      "cell_type": "markdown",
      "metadata": {
        "id": "TNpauQmJR6yz"
      },
      "source": [
        "# Conclusion\n",
        "\n",
        "In this notebook, we've gone through the steps required to create your own simple RAQA application!\n",
        "\n",
        "Please feel free to extend this as much as you'd like."
      ]
    },
    {
      "cell_type": "code",
      "execution_count": 40,
      "metadata": {
        "colab": {
          "base_uri": "https://localhost:8080/",
          "height": 87,
          "referenced_widgets": [
            "bb904e05ece143c79ecc4f20de482f45",
            "3a4ba348cb004f8ab7b2b1395539c81b",
            "1ce393d9afcf427d9d352259c5d32678",
            "56a8e24025594e5e9ff3b8581c344691",
            "d2ea5009dd16442cb5d8a0ac468e50a8",
            "5f00135fe1044051a50ee5e841cbb8e3",
            "4e6efd99f7d346e485b002fb0fa85cc7",
            "3dfb67c39958461da6071e4c19c3fa41"
          ]
        },
        "id": "xzlxJbFtR6y0",
        "outputId": "d5789d16-c41c-4a3c-ac53-65640a0d3698"
      },
      "outputs": [
        {
          "data": {
            "application/vnd.jupyter.widget-view+json": {
              "model_id": "077af904efe844faa3df7538ea4f5424",
              "version_major": 2,
              "version_minor": 0
            },
            "text/plain": [
              "VBox(children=(Label(value='0.003 MB of 0.003 MB uploaded\\r'), FloatProgress(value=1.0, max=1.0)))"
            ]
          },
          "metadata": {},
          "output_type": "display_data"
        },
        {
          "data": {
            "text/html": [
              " View run <strong style=\"color:#cdcd00\">cool-forest-3</strong> at: <a href='https://wandb.ai/nisargvp/Visibility%20Example%20-%20AIE3/runs/cawan13n' target=\"_blank\">https://wandb.ai/nisargvp/Visibility%20Example%20-%20AIE3/runs/cawan13n</a><br/> View project at: <a href='https://wandb.ai/nisargvp/Visibility%20Example%20-%20AIE3' target=\"_blank\">https://wandb.ai/nisargvp/Visibility%20Example%20-%20AIE3</a><br/>Synced 6 W&B file(s), 0 media file(s), 0 artifact file(s) and 0 other file(s)"
            ],
            "text/plain": [
              "<IPython.core.display.HTML object>"
            ]
          },
          "metadata": {},
          "output_type": "display_data"
        },
        {
          "data": {
            "text/html": [
              "Find logs at: <code>./wandb/run-20240610_074255-cawan13n/logs</code>"
            ],
            "text/plain": [
              "<IPython.core.display.HTML object>"
            ]
          },
          "metadata": {},
          "output_type": "display_data"
        }
      ],
      "source": [
        "wandb.finish()"
      ]
    }
  ],
  "metadata": {
    "colab": {
      "provenance": []
    },
    "kernelspec": {
      "display_name": "buildyourownlangchain",
      "language": "python",
      "name": "python3"
    },
    "language_info": {
      "codemirror_mode": {
        "name": "ipython",
        "version": 3
      },
      "file_extension": ".py",
      "mimetype": "text/x-python",
      "name": "python",
      "nbconvert_exporter": "python",
      "pygments_lexer": "ipython3",
      "version": "3.1.undefined"
    },
    "orig_nbformat": 4,
    "widgets": {
      "application/vnd.jupyter.widget-state+json": {
        "1ce393d9afcf427d9d352259c5d32678": {
          "model_module": "@jupyter-widgets/controls",
          "model_module_version": "1.5.0",
          "model_name": "FloatProgressModel",
          "state": {
            "_dom_classes": [],
            "_model_module": "@jupyter-widgets/controls",
            "_model_module_version": "1.5.0",
            "_model_name": "FloatProgressModel",
            "_view_count": null,
            "_view_module": "@jupyter-widgets/controls",
            "_view_module_version": "1.5.0",
            "_view_name": "ProgressView",
            "bar_style": "",
            "description": "",
            "description_tooltip": null,
            "layout": "IPY_MODEL_4e6efd99f7d346e485b002fb0fa85cc7",
            "max": 1,
            "min": 0,
            "orientation": "horizontal",
            "style": "IPY_MODEL_3dfb67c39958461da6071e4c19c3fa41",
            "value": 1
          }
        },
        "3a4ba348cb004f8ab7b2b1395539c81b": {
          "model_module": "@jupyter-widgets/controls",
          "model_module_version": "1.5.0",
          "model_name": "LabelModel",
          "state": {
            "_dom_classes": [],
            "_model_module": "@jupyter-widgets/controls",
            "_model_module_version": "1.5.0",
            "_model_name": "LabelModel",
            "_view_count": null,
            "_view_module": "@jupyter-widgets/controls",
            "_view_module_version": "1.5.0",
            "_view_name": "LabelView",
            "description": "",
            "description_tooltip": null,
            "layout": "IPY_MODEL_d2ea5009dd16442cb5d8a0ac468e50a8",
            "placeholder": "​",
            "style": "IPY_MODEL_5f00135fe1044051a50ee5e841cbb8e3",
            "value": "0.018 MB of 0.018 MB uploaded\r"
          }
        },
        "3dfb67c39958461da6071e4c19c3fa41": {
          "model_module": "@jupyter-widgets/controls",
          "model_module_version": "1.5.0",
          "model_name": "ProgressStyleModel",
          "state": {
            "_model_module": "@jupyter-widgets/controls",
            "_model_module_version": "1.5.0",
            "_model_name": "ProgressStyleModel",
            "_view_count": null,
            "_view_module": "@jupyter-widgets/base",
            "_view_module_version": "1.2.0",
            "_view_name": "StyleView",
            "bar_color": null,
            "description_width": ""
          }
        },
        "4e6efd99f7d346e485b002fb0fa85cc7": {
          "model_module": "@jupyter-widgets/base",
          "model_module_version": "1.2.0",
          "model_name": "LayoutModel",
          "state": {
            "_model_module": "@jupyter-widgets/base",
            "_model_module_version": "1.2.0",
            "_model_name": "LayoutModel",
            "_view_count": null,
            "_view_module": "@jupyter-widgets/base",
            "_view_module_version": "1.2.0",
            "_view_name": "LayoutView",
            "align_content": null,
            "align_items": null,
            "align_self": null,
            "border": null,
            "bottom": null,
            "display": null,
            "flex": null,
            "flex_flow": null,
            "grid_area": null,
            "grid_auto_columns": null,
            "grid_auto_flow": null,
            "grid_auto_rows": null,
            "grid_column": null,
            "grid_gap": null,
            "grid_row": null,
            "grid_template_areas": null,
            "grid_template_columns": null,
            "grid_template_rows": null,
            "height": null,
            "justify_content": null,
            "justify_items": null,
            "left": null,
            "margin": null,
            "max_height": null,
            "max_width": null,
            "min_height": null,
            "min_width": null,
            "object_fit": null,
            "object_position": null,
            "order": null,
            "overflow": null,
            "overflow_x": null,
            "overflow_y": null,
            "padding": null,
            "right": null,
            "top": null,
            "visibility": null,
            "width": null
          }
        },
        "56a8e24025594e5e9ff3b8581c344691": {
          "model_module": "@jupyter-widgets/base",
          "model_module_version": "1.2.0",
          "model_name": "LayoutModel",
          "state": {
            "_model_module": "@jupyter-widgets/base",
            "_model_module_version": "1.2.0",
            "_model_name": "LayoutModel",
            "_view_count": null,
            "_view_module": "@jupyter-widgets/base",
            "_view_module_version": "1.2.0",
            "_view_name": "LayoutView",
            "align_content": null,
            "align_items": null,
            "align_self": null,
            "border": null,
            "bottom": null,
            "display": null,
            "flex": null,
            "flex_flow": null,
            "grid_area": null,
            "grid_auto_columns": null,
            "grid_auto_flow": null,
            "grid_auto_rows": null,
            "grid_column": null,
            "grid_gap": null,
            "grid_row": null,
            "grid_template_areas": null,
            "grid_template_columns": null,
            "grid_template_rows": null,
            "height": null,
            "justify_content": null,
            "justify_items": null,
            "left": null,
            "margin": null,
            "max_height": null,
            "max_width": null,
            "min_height": null,
            "min_width": null,
            "object_fit": null,
            "object_position": null,
            "order": null,
            "overflow": null,
            "overflow_x": null,
            "overflow_y": null,
            "padding": null,
            "right": null,
            "top": null,
            "visibility": null,
            "width": null
          }
        },
        "5f00135fe1044051a50ee5e841cbb8e3": {
          "model_module": "@jupyter-widgets/controls",
          "model_module_version": "1.5.0",
          "model_name": "DescriptionStyleModel",
          "state": {
            "_model_module": "@jupyter-widgets/controls",
            "_model_module_version": "1.5.0",
            "_model_name": "DescriptionStyleModel",
            "_view_count": null,
            "_view_module": "@jupyter-widgets/base",
            "_view_module_version": "1.2.0",
            "_view_name": "StyleView",
            "description_width": ""
          }
        },
        "bb904e05ece143c79ecc4f20de482f45": {
          "model_module": "@jupyter-widgets/controls",
          "model_module_version": "1.5.0",
          "model_name": "VBoxModel",
          "state": {
            "_dom_classes": [],
            "_model_module": "@jupyter-widgets/controls",
            "_model_module_version": "1.5.0",
            "_model_name": "VBoxModel",
            "_view_count": null,
            "_view_module": "@jupyter-widgets/controls",
            "_view_module_version": "1.5.0",
            "_view_name": "VBoxView",
            "box_style": "",
            "children": [
              "IPY_MODEL_3a4ba348cb004f8ab7b2b1395539c81b",
              "IPY_MODEL_1ce393d9afcf427d9d352259c5d32678"
            ],
            "layout": "IPY_MODEL_56a8e24025594e5e9ff3b8581c344691"
          }
        },
        "d2ea5009dd16442cb5d8a0ac468e50a8": {
          "model_module": "@jupyter-widgets/base",
          "model_module_version": "1.2.0",
          "model_name": "LayoutModel",
          "state": {
            "_model_module": "@jupyter-widgets/base",
            "_model_module_version": "1.2.0",
            "_model_name": "LayoutModel",
            "_view_count": null,
            "_view_module": "@jupyter-widgets/base",
            "_view_module_version": "1.2.0",
            "_view_name": "LayoutView",
            "align_content": null,
            "align_items": null,
            "align_self": null,
            "border": null,
            "bottom": null,
            "display": null,
            "flex": null,
            "flex_flow": null,
            "grid_area": null,
            "grid_auto_columns": null,
            "grid_auto_flow": null,
            "grid_auto_rows": null,
            "grid_column": null,
            "grid_gap": null,
            "grid_row": null,
            "grid_template_areas": null,
            "grid_template_columns": null,
            "grid_template_rows": null,
            "height": null,
            "justify_content": null,
            "justify_items": null,
            "left": null,
            "margin": null,
            "max_height": null,
            "max_width": null,
            "min_height": null,
            "min_width": null,
            "object_fit": null,
            "object_position": null,
            "order": null,
            "overflow": null,
            "overflow_x": null,
            "overflow_y": null,
            "padding": null,
            "right": null,
            "top": null,
            "visibility": null,
            "width": null
          }
        }
      }
    }
  },
  "nbformat": 4,
  "nbformat_minor": 0
}
